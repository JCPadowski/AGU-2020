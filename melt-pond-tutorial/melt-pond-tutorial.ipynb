{
 "cells": [
  {
   "cell_type": "markdown",
   "metadata": {},
   "source": [
    "## **Coincident NASA remote sensing data over the Arctic ocean**\n",
    "### Search and subset data by geographic bounding box\n",
    "\n",
    "Intro to use case (studying melt pond characteristics), motivation, connections to cloud migration, \n",
    "\n",
    "### Learning objectives:\n",
    "1. Select NASA Earthdata sea ice and sea surface temperature datasets\n",
    "2. Identify data file size and availability over time and geographic bounding box\n",
    "3. Subset and download data using an Application Programmtic Interface (API)\n",
    "4. Plot and compare coincident data values"
   ]
  },
  {
   "cell_type": "markdown",
   "metadata": {},
   "source": [
    "___\n",
    "### **Explore NASA Earthdata sea ice and ocean products**\n",
    "\n",
    "- Highlight key search terms and data availability across NASA DAACs.\n",
    "\n",
    "[NASA Earthdata Search results from SST and sea ice height keyword selection](https://search.earthdata.nasa.gov/search?fs10=Sea%20Ice%20Elevation&fsm0=Sea%20Ice&fst0=Cryosphere&fs21=Skin%20Sea%20Surface%20Temperature&fs11=Sea%20Surface%20Temperature&fsm1=Ocean%20Temperature&fst1=Oceans)\n",
    "\n",
    "That's still 24 different data products to sort through and understand! We've done the selection for you, choosing L3A height data from the ATLAS instrument onboard ICESat-2 mission and Global Skin Sea Surface Temperature from the MODIS instrument onboard Terra. \n",
    "\n",
    "Links to landing pages and documentation:\n",
    "\n",
    "- Sea Surface Temperature: \n",
    "    * MODIS (Terra) SST: MODIS_T-JPL-L2P-v2014.0\n",
    "        - **Mention of SST data being restricted here?**\n",
    "    * Hooked up to L2SS now:\n",
    "        * C1940473819-POCLOUD (MODIS_A-JPL-L2P-v2019.0)\n",
    "        * C1940475563-POCLOUD (MODIS_T-JPL-L2P-v2019.0)\n",
    "        * C1940466008-POCLOUD (MERGED_TP_J1_OSTM_OST_CYCLES_V42)\n",
    "- Sea Ice Height\n",
    "    * [ATL07](https://doi.org/10.5067/ATLAS/ATL07.003)\n",
    "\n"
   ]
  },
  {
   "cell_type": "markdown",
   "metadata": {},
   "source": [
    "___\n",
    "### **Import packages**"
   ]
  },
  {
   "cell_type": "code",
   "execution_count": 10,
   "metadata": {},
   "outputs": [],
   "source": [
    "import netrc\n",
    "from urllib import request, parse\n",
    "from http.cookiejar import CookieJar\n",
    "from gql import gql, Client\n",
    "from gql.transport.requests import RequestsHTTPTransport\n",
    "from pprint import pprint\n",
    "import getpass\n",
    "import requests\n",
    "import json\n",
    "import random\n",
    "from statistics import mean\n",
    "import pandas as pd\n",
    "import geopandas\n",
    "import os\n",
    "from xml.etree import ElementTree as ET\n",
    "import shutil\n",
    "import time\n",
    "import zipfile\n",
    "import io\n",
    "import xarray as xr\n",
    "import h5py\n",
    "from pathlib import Path\n",
    "import numpy as np\n",
    "from matplotlib import pyplot as plt"
   ]
  },
  {
   "cell_type": "markdown",
   "metadata": {},
   "source": [
    "___ \n",
    "\n",
    "### **Earthdata Login Authentication**\n",
    "\n",
    "An Earthdata Login account is required to access data, as well as discover restricted data, from the NASA Earthdata system. Please visit https://urs.earthdata.nasa.gov to register and manage your Earthdata Login account. This account is to create and only takes a moment to set up.\n",
    "\n",
    "The function below will allow Python scripts to log into any Earthdata Login application programmatically.  To avoid being prompted for\n",
    "credentials every time you run and also allow clients such as curl to log in, you can add the following\n",
    "to a `.netrc` (`_netrc` on Windows) file in your home directory:\n",
    "\n",
    "```\n",
    "machine uat.urs.earthdata.nasa.gov\n",
    "    login <your username>\n",
    "    password <your password>\n",
    "```\n",
    "\n",
    "Make sure that this file is only readable by the current user or you will receive an error stating\n",
    "\"netrc access too permissive.\"\n",
    "\n",
    "`$ chmod 0600 ~/.netrc` \n"
   ]
  },
  {
   "cell_type": "code",
   "execution_count": 4,
   "metadata": {},
   "outputs": [],
   "source": [
    "def setup_earthdata_login_auth(endpoint):\n",
    "    \"\"\"\n",
    "    Set up the request library so that it authenticates against the given Earthdata Login\n",
    "    endpoint and is able to track cookies between requests.  This looks in the .netrc file \n",
    "    first and if no credentials are found, it prompts for them.\n",
    "\n",
    "    Production endpoint:\n",
    "        urs.earthdata.nasa.gov - Earthdata Login production\n",
    "    \"\"\"\n",
    "    try:\n",
    "        username, _, password = netrc.netrc().authenticators(endpoint)\n",
    "    except (FileNotFoundError, TypeError):\n",
    "        # FileNotFound = There's no .netrc file\n",
    "        # TypeError = The endpoint isn't in the netrc file, causing the above to try unpacking None\n",
    "        print('Please provide your Earthdata Login credentials to allow data access')\n",
    "        print('Your credentials will only be passed to %s and will not be exposed in Jupyter' % (endpoint))\n",
    "        username = input('Username:')\n",
    "        password = getpass.getpass()\n",
    "\n",
    "    manager = request.HTTPPasswordMgrWithDefaultRealm()\n",
    "    manager.add_password(None, endpoint, username, password)\n",
    "    auth = request.HTTPBasicAuthHandler(manager)\n",
    "\n",
    "    jar = CookieJar()\n",
    "    processor = request.HTTPCookieProcessor(jar)\n",
    "    opener = request.build_opener(auth, processor)\n",
    "    request.install_opener(opener)"
   ]
  },
  {
   "cell_type": "markdown",
   "metadata": {},
   "source": [
    "Now call the above function to set up Earthdata Login for subsequent requests:"
   ]
  },
  {
   "cell_type": "code",
   "execution_count": 11,
   "metadata": {},
   "outputs": [
    {
     "name": "stdout",
     "output_type": "stream",
     "text": [
      "Please provide your Earthdata Login credentials to allow data access\n",
      "Your credentials will only be passed to uat.earthdata.nasa.gov and will not be exposed in Jupyter\n"
     ]
    },
    {
     "name": "stdin",
     "output_type": "stream",
     "text": [
      "Username: amy.steiker\n",
      " ·········\n"
     ]
    }
   ],
   "source": [
    "setup_earthdata_login_auth('uat.earthdata.nasa.gov')"
   ]
  },
  {
   "cell_type": "markdown",
   "metadata": {},
   "source": [
    "___\n",
    "\n",
    "### **Data Discovery**\n",
    "\n",
    "We will be working with a study area just north of Greenland in the Arctic Ocean. The OpenAltimetry application provides on-the-fly visualizations of height measurements produced by ICESat-2, where interesting features can be tagged and shared, like this melt pond observation:\n",
    "\n",
    "https://openaltimetry.org/data/icesat2/?start_date=2019-06-22&annoId=180\n",
    "\n",
    "<img align=\"left\"\n",
    "     src=\"OpenAltimetry-study-area.png\">\n"
   ]
  },
  {
   "cell_type": "markdown",
   "metadata": {},
   "source": [
    "#### Record time and area of interest \n",
    "\n",
    "These `bounding_box` and `temporal` variables will be used for data search, subset, and access below"
   ]
  },
  {
   "cell_type": "code",
   "execution_count": 28,
   "metadata": {},
   "outputs": [],
   "source": [
    "# Bounding Box spatial parameter in decimal degree 'W,S,E,N' format.\n",
    "bounding_box = '-62.8,81.7,-56.4,83'\n",
    "# Each date in yyyy-MM-ddTHH:mm:ssZ format; date range in start,end format\n",
    "temporal = '2019-06-22T00:00:00Z,2019-06-22T23:59:59Z'"
   ]
  },
  {
   "cell_type": "markdown",
   "metadata": {},
   "source": [
    "#### Explore data availability using the Common Metadata Repository\n",
    "The Common Metadata Repository (CMR) is a robust metadata system that catalogs Earth Science data and associated service metadata records. CMR supports data search and discovery through an Application Programming Interface, or API, enabling reproducible data product and data file searches using a number of helpful variables, including geographic area, keyword, and time.\n",
    "\n",
    "General CMR API documentation: https://cmr.earthdata.nasa.gov/search/site/docs/search/api.html\n",
    "\n",
    "***[below is background for development - will not include in final notebook]***\n",
    "\n",
    "_Configure a CMR GraphQL client:_\n",
    "\n",
    "_Using qgl we can communicate with the CMR GraphQL endpoint in a standards-based way, allowing for schema introspection. gql isn't the only python GraphQL client library out there. Other libraries might provide features you value, like gql-next's static type generation functionality._\n",
    "\n",
    "_GraphQL endpoint documentation and interactive playground:_ https://graphql.earthdata.nasa.gov/api\n"
   ]
  },
  {
   "cell_type": "code",
   "execution_count": 12,
   "metadata": {},
   "outputs": [],
   "source": [
    "CMR_GRAPHQL_URL = 'https://graphql.earthdata.nasa.gov/api'\n",
    "sample_transport=RequestsHTTPTransport(\n",
    "    url=CMR_GRAPHQL_URL,\n",
    "    retries=3,            # Automatically retry, don't put it on the user!\n",
    ")\n",
    "\n",
    "client = Client(\n",
    "    transport=sample_transport,\n",
    "    fetch_schema_from_transport=True,  # Get the schema as part of the client object\n",
    ")\n",
    "\n",
    "# collection_schema = client.schema.get_type('Collection')\n",
    "\n",
    "# # Show info about 5 random fields\n",
    "# sample_fields = random.sample(list(collection_schema.fields.items()), 5)\n",
    "# for fieldname, field in sample_fields:\n",
    "#     print(f'* {fieldname}: {field.description}')"
   ]
  },
  {
   "cell_type": "markdown",
   "metadata": {},
   "source": [
    "#### Select data sets and determine version numbers\n",
    "    \n",
    "NASA Earthdata Search can be used to visualize file coverage over mulitple data sets and to access the same data you will be working with below: [insert URL with same search here]\n",
    "\n",
    "Data sets are selected by data set IDs (e.g. ATL07). In the CMR API documentation, a data set id is referred to as a \"short name\". These short names are located at the top of each NSIDC data set landing page in gray above the full title. Data are then converted to JSON format; a language independant human-readable open-standard file format. More than one version can exist for a given data set:"
   ]
  },
  {
   "cell_type": "code",
   "execution_count": 20,
   "metadata": {},
   "outputs": [
    {
     "name": "stdout",
     "output_type": "stream",
     "text": [
      "{'collections': {'items': [{'conceptId': 'C1693233387-PODAAC',\n",
      "                            'datasetId': 'GHRSST Level 2P Global Sea Surface '\n",
      "                                         'Skin Temperature from the Moderate '\n",
      "                                         'Resolution Imaging Spectroradiometer '\n",
      "                                         '(MODIS) on the NASA Terra satellite '\n",
      "                                         '(GDS2)',\n",
      "                            'shortName': 'MODIS_T-JPL-L2P-v2019.0',\n",
      "                            'versionId': '2019.0'}]}}\n",
      "{'collections': {'items': [{'conceptId': 'C1631076780-NSIDC_ECS',\n",
      "                            'datasetId': 'ATLAS/ICESat-2 L3A Sea Ice Height '\n",
      "                                         'V002',\n",
      "                            'shortName': 'ATL07',\n",
      "                            'versionId': '002'},\n",
      "                           {'conceptId': 'C1706334166-NSIDC_ECS',\n",
      "                            'datasetId': 'ATLAS/ICESat-2 L3A Sea Ice Height '\n",
      "                                         'V003',\n",
      "                            'shortName': 'ATL07',\n",
      "                            'versionId': '003'}]}}\n"
     ]
    }
   ],
   "source": [
    "sst_query = gql('''\n",
    "query { \n",
    "  collections(shortName: \"MODIS_T-JPL-L2P-v2019.0\") {\n",
    "    items { \n",
    "      shortName\n",
    "      datasetId\n",
    "      conceptId\n",
    "      versionId\n",
    "    }\n",
    "  }\n",
    "}\n",
    "''')\n",
    "\n",
    "sst_response = client.execute(sst_query)\n",
    "pprint(sst_response)\n",
    "\n",
    "height_query = gql('''\n",
    "query { \n",
    "  collections(shortName: \"ATL07\") {\n",
    "    items { \n",
    "      shortName\n",
    "      datasetId\n",
    "      conceptId\n",
    "      versionId\n",
    "    }\n",
    "  }\n",
    "}\n",
    "''')\n",
    "\n",
    "height_response = client.execute(height_query)\n",
    "pprint(height_response)\n"
   ]
  },
  {
   "cell_type": "markdown",
   "metadata": {},
   "source": [
    "We will specify the most recent version for our remaining data set queries."
   ]
  },
  {
   "cell_type": "markdown",
   "metadata": {},
   "source": [
    "#### Discover file number and file size \n",
    "\n",
    "Again using CMR search, determine the number of files that exist over this time and area of interest, as well as the average size and total volume of those files."
   ]
  },
  {
   "cell_type": "code",
   "execution_count": 24,
   "metadata": {},
   "outputs": [
    {
     "name": "stdout",
     "output_type": "stream",
     "text": [
      "Found 0 files\n"
     ]
    },
    {
     "ename": "StatisticsError",
     "evalue": "mean requires at least one data point",
     "output_type": "error",
     "traceback": [
      "\u001b[0;31m---------------------------------------------------------------------------\u001b[0m",
      "\u001b[0;31mStatisticsError\u001b[0m                           Traceback (most recent call last)",
      "\u001b[0;32m<ipython-input-24-859dfc0b55cc>\u001b[0m in \u001b[0;36m<module>\u001b[0;34m\u001b[0m\n\u001b[1;32m     17\u001b[0m \u001b[0;34m\u001b[0m\u001b[0m\n\u001b[1;32m     18\u001b[0m \u001b[0mprint\u001b[0m\u001b[0;34m(\u001b[0m\u001b[0;34mf\"Found {response['granules']['count']} files\"\u001b[0m\u001b[0;34m)\u001b[0m\u001b[0;34m\u001b[0m\u001b[0;34m\u001b[0m\u001b[0m\n\u001b[0;32m---> 19\u001b[0;31m \u001b[0mprint\u001b[0m\u001b[0;34m(\u001b[0m\u001b[0;34mf\"Average size: {mean(granule_sizes):.2f}\"\u001b[0m\u001b[0;34m)\u001b[0m\u001b[0;34m\u001b[0m\u001b[0;34m\u001b[0m\u001b[0m\n\u001b[0m\u001b[1;32m     20\u001b[0m \u001b[0mprint\u001b[0m\u001b[0;34m(\u001b[0m\u001b[0;34mf\"Total size: {sum(granule_sizes):.2f}\"\u001b[0m\u001b[0;34m)\u001b[0m\u001b[0;34m\u001b[0m\u001b[0;34m\u001b[0m\u001b[0m\n",
      "\u001b[0;32m~/miniconda3/envs/tutorial/lib/python3.7/statistics.py\u001b[0m in \u001b[0;36mmean\u001b[0;34m(data)\u001b[0m\n\u001b[1;32m    308\u001b[0m     \u001b[0mn\u001b[0m \u001b[0;34m=\u001b[0m \u001b[0mlen\u001b[0m\u001b[0;34m(\u001b[0m\u001b[0mdata\u001b[0m\u001b[0;34m)\u001b[0m\u001b[0;34m\u001b[0m\u001b[0;34m\u001b[0m\u001b[0m\n\u001b[1;32m    309\u001b[0m     \u001b[0;32mif\u001b[0m \u001b[0mn\u001b[0m \u001b[0;34m<\u001b[0m \u001b[0;36m1\u001b[0m\u001b[0;34m:\u001b[0m\u001b[0;34m\u001b[0m\u001b[0;34m\u001b[0m\u001b[0m\n\u001b[0;32m--> 310\u001b[0;31m         \u001b[0;32mraise\u001b[0m \u001b[0mStatisticsError\u001b[0m\u001b[0;34m(\u001b[0m\u001b[0;34m'mean requires at least one data point'\u001b[0m\u001b[0;34m)\u001b[0m\u001b[0;34m\u001b[0m\u001b[0;34m\u001b[0m\u001b[0m\n\u001b[0m\u001b[1;32m    311\u001b[0m     \u001b[0mT\u001b[0m\u001b[0;34m,\u001b[0m \u001b[0mtotal\u001b[0m\u001b[0;34m,\u001b[0m \u001b[0mcount\u001b[0m \u001b[0;34m=\u001b[0m \u001b[0m_sum\u001b[0m\u001b[0;34m(\u001b[0m\u001b[0mdata\u001b[0m\u001b[0;34m)\u001b[0m\u001b[0;34m\u001b[0m\u001b[0;34m\u001b[0m\u001b[0m\n\u001b[1;32m    312\u001b[0m     \u001b[0;32massert\u001b[0m \u001b[0mcount\u001b[0m \u001b[0;34m==\u001b[0m \u001b[0mn\u001b[0m\u001b[0;34m\u001b[0m\u001b[0;34m\u001b[0m\u001b[0m\n",
      "\u001b[0;31mStatisticsError\u001b[0m: mean requires at least one data point"
     ]
    }
   ],
   "source": [
    "# NOTE: GraphQL endpoint currently supports selecting granules by conceptId, not short_name, versionId.\n",
    "query = gql('''\n",
    "query {\n",
    "  granules(conceptId: \"C1940475563-POCLOUD\"\n",
    "           boundingBox: \"-62.8,81.7,-56.4,83\"\n",
    "           temporal: \"2019-06-22T00:00:00Z,2019-06-22T23:59:59Z\"\n",
    "           limit: 100) {\n",
    "    count\n",
    "    items { granuleSize }\n",
    "           \n",
    "  }\n",
    "}\n",
    "''')\n",
    "response = client.execute(query)\n",
    "\n",
    "granule_sizes = [float(i['granuleSize']) for i in response['granules']['items']][:]\n",
    "\n",
    "print(f\"Found {response['granules']['count']} files\")\n",
    "print(f\"Average size: {mean(granule_sizes):.2f}\")\n",
    "print(f\"Total size: {sum(granule_sizes):.2f}\")"
   ]
  },
  {
   "cell_type": "markdown",
   "metadata": {},
   "source": [
    "#### ***On your own: Discover data availability for MODIS Skin Sea Surface Temperature:***\n",
    "Replace the ATL07 `conceptID` value with the MODIS Skin Sea Surface Temperature `conceptID` value returned above. How do the number of files and the data volume compare to ATL07?"
   ]
  },
  {
   "cell_type": "markdown",
   "metadata": {},
   "source": [
    "Note that subsetting, reformatting, or reprojecting can alter the size of the granules if those services are applied to your request.\n",
    "\n"
   ]
  },
  {
   "cell_type": "markdown",
   "metadata": {},
   "source": [
    "### **Data Access and Subsetting**\n",
    "\n",
    "#### Determine subsetting service options\n",
    "\n",
    "Let's execute one final CMR search to determine what transformation services, such as spatial subsetting, reformatting, reprojection, and resampling, are available for each data product. "
   ]
  },
  {
   "cell_type": "code",
   "execution_count": 25,
   "metadata": {},
   "outputs": [
    {
     "name": "stdout",
     "output_type": "stream",
     "text": [
      "{'items': [{'conceptId': 'C1706334166-NSIDC_ECS',\n",
      "            'datasetId': 'ATLAS/ICESat-2 L3A Sea Ice Height V003',\n",
      "            'services': {'items': [{'serviceOptions': {'subset': {'spatialSubset': {'boundingBox': {'allowMultipleValues': False},\n",
      "                                                                                    'shapefile': [{'format': 'ESRI'},\n",
      "                                                                                                  {'format': 'KML'},\n",
      "                                                                                                  {'format': 'GeoJSON'}]},\n",
      "                                                                  'temporalSubset': {'allowMultipleValues': False},\n",
      "                                                                  'variableSubset': {'allowMultipleValues': True}},\n",
      "                                                       'supportedReformattings': [{'supportedInputFormat': 'HDF5',\n",
      "                                                                                   'supportedOutputFormats': ['ASCII',\n",
      "                                                                                                              'NETCDF-3',\n",
      "                                                                                                              'NETCDF-4',\n",
      "                                                                                                              'Shapefile']}]}}]},\n",
      "            'shortName': 'ATL07',\n",
      "            'versionId': '003'}]}\n"
     ]
    }
   ],
   "source": [
    "height_query = gql('''\n",
    "query { \n",
    "  collections(conceptId: \"C1706334166-NSIDC_ECS\") {\n",
    "    items { \n",
    "      shortName\n",
    "      datasetId\n",
    "      conceptId\n",
    "      versionId\n",
    "      services {\n",
    "          items {\n",
    "          serviceOptions\n",
    "          }\n",
    "      }\n",
    "    }\n",
    "  }\n",
    "}\n",
    "''')\n",
    "\n",
    "height_response = client.execute(height_query)\n",
    "pprint(height_response['collections'])"
   ]
  },
  {
   "cell_type": "markdown",
   "metadata": {},
   "source": [
    "We can also do this for the MODIS SST data set (pending UMM-S and L2SS connection?)"
   ]
  },
  {
   "cell_type": "code",
   "execution_count": 26,
   "metadata": {},
   "outputs": [
    {
     "name": "stdout",
     "output_type": "stream",
     "text": [
      "{'items': []}\n"
     ]
    }
   ],
   "source": [
    "sst_query = gql('''\n",
    "query { \n",
    "  collections(conceptId: \"C1940475563-POCLOUD\") {\n",
    "    items { \n",
    "      shortName\n",
    "      datasetId\n",
    "      conceptId\n",
    "      versionId\n",
    "      services {\n",
    "          items {\n",
    "          serviceOptions\n",
    "          }\n",
    "      }\n",
    "    }\n",
    "  }\n",
    "}\n",
    "''')\n",
    "\n",
    "sst_response = client.execute(sst_query)\n",
    "pprint(sst_response['collections'])"
   ]
  },
  {
   "cell_type": "markdown",
   "metadata": {},
   "source": [
    "For our purposes, even though there are several other options for spatial area input like shapefile (see other tutorial for this!), we'll use a simple bounding box to crop our data to that area. "
   ]
  },
  {
   "cell_type": "markdown",
   "metadata": {},
   "source": [
    "### Data Access"
   ]
  },
  {
   "cell_type": "markdown",
   "metadata": {},
   "source": [
    "Prior to migrating to AWS, ATL07 is accessed using an NSIDC-specific API:"
   ]
  },
  {
   "cell_type": "code",
   "execution_count": 29,
   "metadata": {},
   "outputs": [
    {
     "name": "stdout",
     "output_type": "stream",
     "text": [
      "https://n5eil02u.ecs.nsidc.org/egi/request?short_name=ATL07&version=003&temporal=2019-06-22T00:00:00Z,2019-06-22T23:59:59Z&bounding_box=-62.8,81.7,-56.4,83&bbox=-62.8,81.7,-56.4,83&page_size=10&request_mode=async&email=amy.steiker@nsidc.org\n"
     ]
    }
   ],
   "source": [
    "#Set NSIDC data access base URL\n",
    "base_url = 'https://n5eil02u.ecs.nsidc.org/egi/request'\n",
    "\n",
    "# bounding box search and subset:\n",
    "param_dict = {'short_name': 'ATL07', \n",
    "              'version': '003', \n",
    "              'temporal': temporal, \n",
    "              'bounding_box': bounding_box, \n",
    "              'bbox': bounding_box, \n",
    "              'page_size': '10', \n",
    "              'request_mode': 'async',\n",
    "              'email': 'amy.steiker@nsidc.org', }\n",
    "\n",
    "#Remove blank key-value-pairs\n",
    "param_dict = {k: v for k, v in param_dict.items() if v != ''}\n",
    "\n",
    "#Convert to string\n",
    "param_string = '&'.join(\"{!s}={!r}\".format(k,v) for (k,v) in param_dict.items())\n",
    "param_string = param_string.replace(\"'\",\"\")\n",
    "\n",
    "API_request = api_request = f'{base_url}?{param_string}'\n",
    "print(API_request)"
   ]
  },
  {
   "cell_type": "markdown",
   "metadata": {},
   "source": [
    "Earthdata Search session (from https://wiki.earthdata.nasa.gov/display/EL/How+To+Access+Data+With+Python):"
   ]
  },
  {
   "cell_type": "code",
   "execution_count": 32,
   "metadata": {},
   "outputs": [
    {
     "name": "stdin",
     "output_type": "stream",
     "text": [
      "Earthdata Login password:  ·········\n"
     ]
    }
   ],
   "source": [
    "username = 'amy.steiker' # Enter Earthdata Login user name'\n",
    "password = getpass.getpass('Earthdata Login password: ') # Enter Earthdata Login password"
   ]
  },
  {
   "cell_type": "code",
   "execution_count": 38,
   "metadata": {},
   "outputs": [
    {
     "name": "stdout",
     "output_type": "stream",
     "text": [
      "Order request URL:  https://n5eil02u.ecs.nsidc.org/egi/request?short_name=ATL07&version=003&temporal=2019-06-22T00:00:00Z,2019-06-22T23:59:59Z&bounding_box=-62.8,81.7,-56.4,83&bbox=-62.8,81.7,-56.4,83&page_size=10&request_mode=async&email=amy.steiker@nsidc.org\n",
      "order ID:  5000000923193\n",
      "status URL:  https://n5eil02u.ecs.nsidc.org/egi/request/5000000923193\n",
      "Initial request status is  processing\n",
      "Status is not complete. Trying again.\n",
      "Retry request status is:  complete\n",
      "Zip download URL:  https://n5eil02u.ecs.nsidc.org/esir/5000000923193.zip\n",
      "Beginning download of zipped output...\n",
      "Data request is complete.\n"
     ]
    }
   ],
   "source": [
    "path = str(os.getcwd() + '/Outputs') # Create an output folder if the folder does not already exist.\n",
    "if not os.path.exists(path):\n",
    "    os.mkdir(path)\n",
    "        \n",
    "with requests.Session() as session:\n",
    "    session.auth = (username, password)\n",
    "    r = session.get(API_request)\n",
    "    if r.ok:\n",
    "        print('Order request URL: ', r.url)\n",
    "        esir_root = ET.fromstring(r.content)\n",
    "        orderlist = []   # Look up order ID\n",
    "        for order in esir_root.findall(\"./order/\"):\n",
    "            orderlist.append(order.text)\n",
    "        orderID = orderlist[0]\n",
    "        print('order ID: ', orderID)\n",
    "        statusURL = base_url + '/' + orderID # Create status URL\n",
    "        print('status URL: ', statusURL)\n",
    "        request_response = session.get(statusURL) # Find order status  \n",
    "        if request_response.ok:        \n",
    "            request_root = ET.fromstring(request_response.content)\n",
    "            statuslist = []\n",
    "            for status in request_root.findall(\"./requestStatus/\"):\n",
    "                statuslist.append(status.text)\n",
    "            status = statuslist[0]\n",
    "            print('Initial request status is ', status)\n",
    "        while status == 'pending' or status == 'processing': #Continue loop while request is still processing\n",
    "            print('Status is not complete. Trying again...')\n",
    "            time.sleep(10)\n",
    "            loop_response = session.get(statusURL)\n",
    "            loop_response.raise_for_status() # Raise bad request: Loop will stop for bad response code.\n",
    "            loop_root = ET.fromstring(loop_response.content)\n",
    "            statuslist = [] #find status\n",
    "            for status in loop_root.findall(\"./requestStatus/\"):\n",
    "                statuslist.append(status.text)\n",
    "            status = statuslist[0]\n",
    "            print('Retry request status is: ', status)\n",
    "            if status == 'pending' or status == 'processing':\n",
    "                continue\n",
    "        if status == 'complete_with_errors' or status == 'failed': # Provide complete_with_errors error message:\n",
    "            messagelist = []\n",
    "            for message in loop_root.findall(\"./processInfo/\"):\n",
    "                messagelist.append(message.text)\n",
    "            print('error messages:')\n",
    "            pprint(messagelist)\n",
    "        if status == 'complete' or status == 'complete_with_errors':# Download zipped order if status is complete or complete_with_errors\n",
    "            downloadURL = 'https://n5eil02u.ecs.nsidc.org/esir/' + orderID + '.zip'\n",
    "            print('Zip download URL: ', downloadURL)\n",
    "            print('Beginning download of zipped output...')\n",
    "            zip_response = session.get(downloadURL)\n",
    "            zip_response.raise_for_status() # Raise bad request: Loop will stop for bad response code.\n",
    "            with zipfile.ZipFile(io.BytesIO(zip_response.content)) as z:\n",
    "                z.extractall(path)\n",
    "            print('Data request is complete.')\n",
    "        else: print('Request failed.')"
   ]
  },
  {
   "cell_type": "code",
   "execution_count": 39,
   "metadata": {},
   "outputs": [],
   "source": [
    "# Clean up Outputs folder by removing individual granule folders \n",
    "\n",
    "for root, dirs, files in os.walk(path, topdown=False):\n",
    "    for file in files:\n",
    "        try:\n",
    "            shutil.move(os.path.join(root, file), path)\n",
    "        except OSError:\n",
    "            pass\n",
    "    for name in dirs:\n",
    "        os.rmdir(os.path.join(root, name))"
   ]
  },
  {
   "cell_type": "markdown",
   "metadata": {},
   "source": [
    "The MODIS SST data can be subsetted via Harmony subsetting service. (Insert Harmony landing page when available!!)"
   ]
  },
  {
   "cell_type": "code",
   "execution_count": 40,
   "metadata": {},
   "outputs": [
    {
     "name": "stdout",
     "output_type": "stream",
     "text": [
      "Request URL https://harmony.earthdata.nasa.gov/C1940475563-POCLOUD/ogc-api-coverages/1.0.0/collections/all/coverage/rangeset?&subset=lat(81.7:83)&subset=lon(-62.8:-56.4)&subset=time(\"2019-06-22T00:00:00Z\":\"2019-06-22T23:59:59Z\")\n",
      "{'createdAt': '2020-11-16T00:44:27.910Z',\n",
      " 'jobID': '90619130-355c-4b13-9c52-afbe6f3cc5c4',\n",
      " 'links': [{'href': 'https://harmony.earthdata.nasa.gov/jobs/90619130-355c-4b13-9c52-afbe6f3cc5c4',\n",
      "            'rel': 'self',\n",
      "            'title': 'Job Status',\n",
      "            'type': 'application/json'}],\n",
      " 'message': 'The job is being processed',\n",
      " 'progress': 0,\n",
      " 'request': 'https://harmony.earthdata.nasa.gov/C1940475563-POCLOUD/ogc-api-coverages/1.0.0/collections/all/coverage/rangeset?subset=lat(81.7%3A83)&subset=lon(-62.8%3A-56.4)&subset=time(%222019-06-22T00%3A00%3A00Z%22%3A%222019-06-22T23%3A59%3A59Z%22)',\n",
      " 'status': 'running',\n",
      " 'updatedAt': '2020-11-16T00:44:27.910Z',\n",
      " 'username': 'amy.steiker'}\n",
      "Job URL https://harmony.earthdata.nasa.gov/jobs/90619130-355c-4b13-9c52-afbe6f3cc5c4\n",
      "Job response:\n",
      "\n",
      "{'createdAt': '2020-11-16T00:44:27.910Z',\n",
      " 'jobID': '90619130-355c-4b13-9c52-afbe6f3cc5c4',\n",
      " 'links': [{'href': 'https://harmony.earthdata.nasa.gov/jobs/90619130-355c-4b13-9c52-afbe6f3cc5c4',\n",
      "            'rel': 'self',\n",
      "            'title': 'Job Status',\n",
      "            'type': 'application/json'}],\n",
      " 'message': 'The job is being processed',\n",
      " 'progress': 0,\n",
      " 'request': 'https://harmony.earthdata.nasa.gov/C1940475563-POCLOUD/ogc-api-coverages/1.0.0/collections/all/coverage/rangeset?subset=lat(81.7%3A83)&subset=lon(-62.8%3A-56.4)&subset=time(%222019-06-22T00%3A00%3A00Z%22%3A%222019-06-22T23%3A59%3A59Z%22)',\n",
      " 'status': 'running',\n",
      " 'updatedAt': '2020-11-16T00:44:27.910Z',\n",
      " 'username': 'amy.steiker'}\n",
      "Job status is running. Progress is  0 %. Trying again.\n",
      "Job status is running. Progress is  0 %. Trying again.\n",
      "Job status is running. Progress is  18 %. Trying again.\n",
      "Job status is running. Progress is  36 %. Trying again.\n",
      "Job status is running. Progress is  54 %. Trying again.\n",
      "Job status is running. Progress is  63 %. Trying again.\n",
      "Job status is running. Progress is  81 %. Trying again.\n",
      "Job status is running. Progress is  90 %. Trying again.\n",
      "Job progress is 100%. Output links printed below:\n",
      "https://harmony.earthdata.nasa.gov/service-results/harmony-prod-staging/public/podaac/l2-subsetter/0dc73548-7790-4f21-ab4a-9d83863636c9/20190622061001-JPL-L2P_GHRSST-SSTskin-MODIS_T-D-v02.0-fv01.0_subsetted.nc\n",
      "https://harmony.earthdata.nasa.gov/service-results/harmony-prod-staging/public/podaac/l2-subsetter/0dc73548-7790-4f21-ab4a-9d83863636c9/20190622093001-JPL-L2P_GHRSST-SSTskin-MODIS_T-D-v02.0-fv01.0_subsetted.nc\n",
      "https://harmony.earthdata.nasa.gov/service-results/harmony-prod-staging/public/podaac/l2-subsetter/0dc73548-7790-4f21-ab4a-9d83863636c9/20190622111001-JPL-L2P_GHRSST-SSTskin-MODIS_T-D-v02.0-fv01.0_subsetted.nc\n",
      "https://harmony.earthdata.nasa.gov/service-results/harmony-prod-staging/public/podaac/l2-subsetter/0dc73548-7790-4f21-ab4a-9d83863636c9/20190622125000-JPL-L2P_GHRSST-SSTskin-MODIS_T-D-v02.0-fv01.0_subsetted.nc\n",
      "https://harmony.earthdata.nasa.gov/service-results/harmony-prod-staging/public/podaac/l2-subsetter/0dc73548-7790-4f21-ab4a-9d83863636c9/20190622142500-JPL-L2P_GHRSST-SSTskin-MODIS_T-D-v02.0-fv01.0_subsetted.nc\n",
      "https://harmony.earthdata.nasa.gov/service-results/harmony-prod-staging/public/podaac/l2-subsetter/0dc73548-7790-4f21-ab4a-9d83863636c9/20190622143000-JPL-L2P_GHRSST-SSTskin-MODIS_T-D-v02.0-fv01.0_subsetted.nc\n",
      "https://harmony.earthdata.nasa.gov/service-results/harmony-prod-staging/public/podaac/l2-subsetter/0dc73548-7790-4f21-ab4a-9d83863636c9/20190622160501-JPL-L2P_GHRSST-SSTskin-MODIS_T-D-v02.0-fv01.0_subsetted.nc\n",
      "https://harmony.earthdata.nasa.gov/service-results/harmony-prod-staging/public/podaac/l2-subsetter/0dc73548-7790-4f21-ab4a-9d83863636c9/20190622161000-JPL-L2P_GHRSST-SSTskin-MODIS_T-D-v02.0-fv01.0_subsetted.nc\n",
      "https://harmony.earthdata.nasa.gov/service-results/harmony-prod-staging/public/podaac/l2-subsetter/0dc73548-7790-4f21-ab4a-9d83863636c9/20190622174501-JPL-L2P_GHRSST-SSTskin-MODIS_T-D-v02.0-fv01.0_subsetted.nc\n",
      "https://harmony.earthdata.nasa.gov/service-results/harmony-prod-staging/public/podaac/l2-subsetter/0dc73548-7790-4f21-ab4a-9d83863636c9/20190622192501-JPL-L2P_GHRSST-SSTskin-MODIS_T-D-v02.0-fv01.0_subsetted.nc\n",
      "https://harmony.earthdata.nasa.gov/service-results/harmony-prod-staging/public/podaac/l2-subsetter/0dc73548-7790-4f21-ab4a-9d83863636c9/20190622210001-JPL-L2P_GHRSST-SSTskin-MODIS_T-D-v02.0-fv01.0_subsetted.nc\n"
     ]
    }
   ],
   "source": [
    "harmony_root = 'https://harmony.earthdata.nasa.gov'\n",
    "\n",
    "bboxSubsetConfig = {\n",
    "    'collection_id': 'C1940475563-POCLOUD',\n",
    "    'ogc-api-coverages_version': '1.0.0',\n",
    "    'variable': 'all',\n",
    "    'lat': '(81.7:83)',\n",
    "    'lon': '(-62.8:-56.4)',\n",
    "    'time': '(\"2019-06-22T00:00:00Z\":\"2019-06-22T23:59:59Z\")'\n",
    "}\n",
    "bbox_url = harmony_root+'/{collection_id}/ogc-api-coverages/{ogc-api-coverages_version}/collections/{variable}/coverage/rangeset?&subset=lat{lat}&subset=lon{lon}&subset=time{time}'.format(**bboxSubsetConfig)\n",
    "print('Request URL', bbox_url)\n",
    "r = session.get(bbox_url)\n",
    "bbox_response = r.content\n",
    "async_json = json.loads(bbox_response)\n",
    "pprint(async_json)\n",
    "\n",
    "\n",
    "jobConfig = {\n",
    "    'jobID': async_json['jobID']\n",
    "}\n",
    "\n",
    "job_url = harmony_root+'/jobs/{jobID}'.format(**jobConfig)\n",
    "print('Job URL', job_url)\n",
    "\n",
    "job_response = session.get(job_url)\n",
    "job_results = job_response.content\n",
    "job_json = json.loads(job_results)\n",
    "\n",
    "print('Job response:')\n",
    "print()\n",
    "pprint(job_json)\n",
    "\n",
    "\n",
    "#Continue loop while request is still processing\n",
    "while job_json['status'] == 'running' and job_json['progress'] < 100: \n",
    "    print('Job status is running. Progress is ', job_json['progress'], '%. Trying again.')\n",
    "    time.sleep(10)\n",
    "    loop_response = session.get(job_url)\n",
    "    loop_results = loop_response.content\n",
    "    job_json = json.loads(loop_results)\n",
    "    if job_json['status'] == 'running':\n",
    "        continue\n",
    "\n",
    "if job_json['progress'] == 100:\n",
    "    print('Job progress is 100%. Output links printed below:')\n",
    "    links = [link for link in job_json['links'] if link.get('rel', 'data') == 'data'] #list of data links from response\n",
    "    for i in range(len(links)):\n",
    "        link_dict = links[i] \n",
    "        print(link_dict['href'])\n",
    "        filepath = link_dict['href'].split('/')[-1]\n",
    "        file_ = open(filepath, 'wb')\n",
    "        response = session.get(link_dict['href'])\n",
    "        file_.write(response.content)\n",
    "        file_.close()"
   ]
  },
  {
   "cell_type": "markdown",
   "metadata": {},
   "source": [
    "### **Data Plotting and Comparison** \n",
    "\n",
    "File 20190622192501-JPL-L2P_GHRSST-SSTskin-MODIS_T-D-v02.0-fv01.0_subsetted.nc has data - some granules do not contain any data."
   ]
  },
  {
   "cell_type": "code",
   "execution_count": 121,
   "metadata": {},
   "outputs": [
    {
     "data": {
      "text/plain": [
       "['lat',\n",
       " 'lon',\n",
       " 'sea_surface_temperature',\n",
       " 'sst_dtime',\n",
       " 'quality_level',\n",
       " 'sses_bias',\n",
       " 'sses_standard_deviation',\n",
       " 'l2p_flags',\n",
       " 'chlorophyll_a',\n",
       " 'K_490',\n",
       " 'wind_speed',\n",
       " 'dt_analysis',\n",
       " 'time']"
      ]
     },
     "execution_count": 121,
     "metadata": {},
     "output_type": "execute_result"
    }
   ],
   "source": [
    "filepath = './20190622192501-JPL-L2P_GHRSST-SSTskin-MODIS_T-D-v02.0-fv01.0_subsetted.nc' # Define local filepath \n",
    "\n",
    "sst = xr.open_dataset(filepath)\n",
    "list(sst.variables)"
   ]
  },
  {
   "cell_type": "code",
   "execution_count": 42,
   "metadata": {},
   "outputs": [],
   "source": [
    "atl_filepath = './Outputs/processed_ATL07-01_20190622200154_13070301_003_02.h5' # Define local filepath \n",
    "\n",
    "VARIABLES = {\n",
    "    'ATL07': [\n",
    "        '/gt1l/sea_ice_segments/delta_time',\n",
    "        '/gt1l/sea_ice_segments/latitude',\n",
    "        '/gt1l/sea_ice_segments/longitude',\n",
    "        '/gt1l/sea_ice_segments/heights/height_segment_confidence',\n",
    "        '/gt1l/sea_ice_segments/heights/height_segment_height',\n",
    "        '/gt1l/sea_ice_segments/heights/height_segment_quality',\n",
    "        '/gt1l/sea_ice_segments/heights/height_segment_surface_error_est',\n",
    "        '/gt1l/sea_ice_segments/heights/height_segment_length_seg',\n",
    "        '/gt2l/sea_ice_segments/delta_time',\n",
    "        '/gt2l/sea_ice_segments/latitude',\n",
    "        '/gt2l/sea_ice_segments/longitude',\n",
    "        '/gt2l/sea_ice_segments/heights/height_segment_confidence',\n",
    "        '/gt2l/sea_ice_segments/heights/height_segment_height',\n",
    "        '/gt2l/sea_ice_segments/heights/height_segment_quality',\n",
    "        '/gt2l/sea_ice_segments/heights/height_segment_surface_error_est',\n",
    "        '/gt2l/sea_ice_segments/heights/height_segment_length_seg',\n",
    "        '/gt3l/sea_ice_segments/delta_time',\n",
    "        '/gt3l/sea_ice_segments/latitude',\n",
    "        '/gt3l/sea_ice_segments/longitude',\n",
    "        '/gt3l/sea_ice_segments/heights/height_segment_confidence',\n",
    "        '/gt3l/sea_ice_segments/heights/height_segment_height',\n",
    "        '/gt3l/sea_ice_segments/heights/height_segment_quality',\n",
    "        '/gt3l/sea_ice_segments/heights/height_segment_surface_error_est',\n",
    "        '/gt3l/sea_ice_segments/heights/height_segment_length_seg']\n",
    "}"
   ]
  },
  {
   "cell_type": "code",
   "execution_count": 43,
   "metadata": {},
   "outputs": [],
   "source": [
    "def load_icesat2_as_dataframe(filepath, VARIABLES):\n",
    "    '''\n",
    "    Load points from an ICESat-2 granule 'gt<beam>' groups as DataFrame of points. Uses VARIABLES mapping\n",
    "    to select subset of '/gt<beam>/...' variables  (Assumes these variables share dimensions)\n",
    "    Arguments:\n",
    "        filepath to ATL0# granule\n",
    "    '''\n",
    "    \n",
    "    ds = h5py.File(filepath, 'r')\n",
    "\n",
    "    # Get dataproduct name\n",
    "    dataproduct = ds.attrs['identifier_product_type'].decode()\n",
    "    # Convert variable paths to 'Path' objects for easy manipulation\n",
    "    variables = [Path(v) for v in VARIABLES[dataproduct]]\n",
    "    # Get set of beams to extract individially as dataframes combining in the end\n",
    "    beams = {list(v.parents)[-2].name for v in variables}\n",
    "    \n",
    "    dfs = []\n",
    "    for beam in beams:\n",
    "        data_dict = {}\n",
    "        beam_variables = [v for v in variables if beam in str(v)]\n",
    "        for variable in beam_variables:\n",
    "            # Use variable 'name' as column name. Beam will be specified in 'beam' column\n",
    "            column = variable.name\n",
    "            variable = str(variable)\n",
    "            try:\n",
    "                values = ds[variable][:]\n",
    "                # Convert invalid data to np.nan (only for float columns)\n",
    "                if 'float' in str(values.dtype):\n",
    "                    if 'valid_min' in ds[variable].attrs:\n",
    "                        values[values < ds[variable].attrs['valid_min']] = np.nan\n",
    "                    if 'valid_max' in ds[variable].attrs:\n",
    "                        values[values > ds[variable].attrs['valid_max']] = np.nan\n",
    "                    if '_FillValue' in ds[variable].attrs:\n",
    "                        values[values == ds[variable].attrs['_FillValue']] = np.nan\n",
    "                    \n",
    "                data_dict[column] = values\n",
    "            except KeyError:\n",
    "                print(f'Variable {variable} not found in {filepath}. Likely an empty granule.')\n",
    "                raise\n",
    "                \n",
    "        df = pd.DataFrame.from_dict(data_dict)\n",
    "        df['beam'] = beam\n",
    "        dfs.append(df)\n",
    "        \n",
    "    df = pd.concat(dfs, sort=True)\n",
    "    # Add filename column for book-keeping and reset index\n",
    "    df['filename'] = Path(filepath).name\n",
    "    df = df.reset_index(drop=True)\n",
    "    \n",
    "    return df"
   ]
  },
  {
   "cell_type": "code",
   "execution_count": 44,
   "metadata": {},
   "outputs": [
    {
     "data": {
      "text/html": [
       "<div>\n",
       "<style scoped>\n",
       "    .dataframe tbody tr th:only-of-type {\n",
       "        vertical-align: middle;\n",
       "    }\n",
       "\n",
       "    .dataframe tbody tr th {\n",
       "        vertical-align: top;\n",
       "    }\n",
       "\n",
       "    .dataframe thead th {\n",
       "        text-align: right;\n",
       "    }\n",
       "</style>\n",
       "<table border=\"1\" class=\"dataframe\">\n",
       "  <thead>\n",
       "    <tr style=\"text-align: right;\">\n",
       "      <th></th>\n",
       "      <th>beam</th>\n",
       "      <th>delta_time</th>\n",
       "      <th>height_segment_confidence</th>\n",
       "      <th>height_segment_height</th>\n",
       "      <th>height_segment_length_seg</th>\n",
       "      <th>height_segment_quality</th>\n",
       "      <th>height_segment_surface_error_est</th>\n",
       "      <th>latitude</th>\n",
       "      <th>longitude</th>\n",
       "      <th>filename</th>\n",
       "    </tr>\n",
       "  </thead>\n",
       "  <tbody>\n",
       "    <tr>\n",
       "      <th>42559</th>\n",
       "      <td>gt3l</td>\n",
       "      <td>4.647045e+07</td>\n",
       "      <td>0.011723</td>\n",
       "      <td>0.591261</td>\n",
       "      <td>17.936722</td>\n",
       "      <td>1</td>\n",
       "      <td>0.024832</td>\n",
       "      <td>82.177667</td>\n",
       "      <td>-58.927473</td>\n",
       "      <td>processed_ATL07-01_20190622200154_13070301_003...</td>\n",
       "    </tr>\n",
       "    <tr>\n",
       "      <th>42560</th>\n",
       "      <td>gt3l</td>\n",
       "      <td>4.647045e+07</td>\n",
       "      <td>0.016459</td>\n",
       "      <td>0.430999</td>\n",
       "      <td>20.116600</td>\n",
       "      <td>1</td>\n",
       "      <td>0.026332</td>\n",
       "      <td>82.177605</td>\n",
       "      <td>-58.927597</td>\n",
       "      <td>processed_ATL07-01_20190622200154_13070301_003...</td>\n",
       "    </tr>\n",
       "    <tr>\n",
       "      <th>42561</th>\n",
       "      <td>gt3l</td>\n",
       "      <td>4.647045e+07</td>\n",
       "      <td>NaN</td>\n",
       "      <td>0.116308</td>\n",
       "      <td>30.875296</td>\n",
       "      <td>0</td>\n",
       "      <td>NaN</td>\n",
       "      <td>82.177523</td>\n",
       "      <td>-58.927759</td>\n",
       "      <td>processed_ATL07-01_20190622200154_13070301_003...</td>\n",
       "    </tr>\n",
       "    <tr>\n",
       "      <th>42562</th>\n",
       "      <td>gt3l</td>\n",
       "      <td>4.647045e+07</td>\n",
       "      <td>0.008099</td>\n",
       "      <td>-0.346326</td>\n",
       "      <td>41.622524</td>\n",
       "      <td>0</td>\n",
       "      <td>0.045033</td>\n",
       "      <td>82.177312</td>\n",
       "      <td>-58.928180</td>\n",
       "      <td>processed_ATL07-01_20190622200154_13070301_003...</td>\n",
       "    </tr>\n",
       "    <tr>\n",
       "      <th>42563</th>\n",
       "      <td>gt3l</td>\n",
       "      <td>4.647045e+07</td>\n",
       "      <td>NaN</td>\n",
       "      <td>-0.122129</td>\n",
       "      <td>29.271753</td>\n",
       "      <td>0</td>\n",
       "      <td>NaN</td>\n",
       "      <td>82.177207</td>\n",
       "      <td>-58.928390</td>\n",
       "      <td>processed_ATL07-01_20190622200154_13070301_003...</td>\n",
       "    </tr>\n",
       "  </tbody>\n",
       "</table>\n",
       "</div>"
      ],
      "text/plain": [
       "       beam    delta_time  height_segment_confidence  height_segment_height  \\\n",
       "42559  gt3l  4.647045e+07                   0.011723               0.591261   \n",
       "42560  gt3l  4.647045e+07                   0.016459               0.430999   \n",
       "42561  gt3l  4.647045e+07                        NaN               0.116308   \n",
       "42562  gt3l  4.647045e+07                   0.008099              -0.346326   \n",
       "42563  gt3l  4.647045e+07                        NaN              -0.122129   \n",
       "\n",
       "       height_segment_length_seg  height_segment_quality  \\\n",
       "42559                  17.936722                       1   \n",
       "42560                  20.116600                       1   \n",
       "42561                  30.875296                       0   \n",
       "42562                  41.622524                       0   \n",
       "42563                  29.271753                       0   \n",
       "\n",
       "       height_segment_surface_error_est   latitude  longitude  \\\n",
       "42559                          0.024832  82.177667 -58.927473   \n",
       "42560                          0.026332  82.177605 -58.927597   \n",
       "42561                               NaN  82.177523 -58.927759   \n",
       "42562                          0.045033  82.177312 -58.928180   \n",
       "42563                               NaN  82.177207 -58.928390   \n",
       "\n",
       "                                                filename  \n",
       "42559  processed_ATL07-01_20190622200154_13070301_003...  \n",
       "42560  processed_ATL07-01_20190622200154_13070301_003...  \n",
       "42561  processed_ATL07-01_20190622200154_13070301_003...  \n",
       "42562  processed_ATL07-01_20190622200154_13070301_003...  \n",
       "42563  processed_ATL07-01_20190622200154_13070301_003...  "
      ]
     },
     "execution_count": 44,
     "metadata": {},
     "output_type": "execute_result"
    }
   ],
   "source": [
    "atl07 = load_icesat2_as_dataframe(atl_filepath, VARIABLES)\n",
    "atl07.tail()"
   ]
  },
  {
   "cell_type": "markdown",
   "metadata": {},
   "source": [
    "Convert sst data array to masked array:"
   ]
  },
  {
   "cell_type": "code",
   "execution_count": 134,
   "metadata": {},
   "outputs": [],
   "source": [
    "import numpy.ma as ma\n",
    "\n",
    "lon = ma.masked_invalid(sst['lon'])\n",
    "lat = ma.masked_invalid(sst['lat'])\n",
    "sst_array = ma.masked_invalid(sst['sea_surface_temperature'])"
   ]
  },
  {
   "cell_type": "code",
   "execution_count": 223,
   "metadata": {},
   "outputs": [
    {
     "data": {
      "image/png": "[encoded data removed]",
      "text/plain": [
       "<Figure size 1008x432 with 2 Axes>"
      ]
     },
     "metadata": {
      "needs_background": "light"
     },
     "output_type": "display_data"
    }
   ],
   "source": [
    "import cartopy\n",
    "# adapted from https://bairdlangenbrunner.github.io/python-for-climate-scientists/matplotlib/pcolormesh-grid-fix.html\n",
    "map_proj = cartopy.crs.NorthPolarStereo()\n",
    "data_proj = cartopy.crs.PlateCarree()\n",
    "#geodetic_proj = cartopy.crs.PlateCarree()\n",
    "\n",
    "fig = plt.figure(figsize=(14,6))\n",
    "\n",
    "ax = fig.add_subplot(111, projection=map_proj)\n",
    "ax.coastlines(color='red')\n",
    "\n",
    "sst_plot = ax.pcolor(lon,\\\n",
    "                      lat,\\\n",
    "                      sst_array[0],\\\n",
    "                      transform=data_proj)\n",
    "#ax.set_extent([-65,-55,81,83.5])\n",
    "#ax.set_extent([-75,-45,81,84])\n",
    "ax.set_extent([-61.5,-56.5,81.8,83])\n",
    "\n",
    "# add colorbar\n",
    "axpos = ax.get_position()\n",
    "cbar_ax = fig.add_axes([axpos.x1+0,axpos.y0,0.03,axpos.height])\n",
    "cbar = fig.colorbar(sst_plot, cax=cbar_ax)\n",
    "cbar.ax.tick_params(labelsize=12)\n",
    "cbar.set_label('sst (kelvin)', fontsize=12)\n",
    "\n",
    "height_plot = ax.scatter(atl07.longitude,\\\n",
    "                        atl07.latitude,\\\n",
    "                        c=atl07.height_segment_height,\\\n",
    "                        vmax=1.5,\\\n",
    "                        cmap='Reds',\\\n",
    "                        alpha=0.7,\\\n",
    "                        s=1,\\\n",
    "                        transform=data_proj)\n",
    "# cbar2_ax = fig.add_axes([axpos.x1+0,axpos.y0,0.03,axpos.height])\n",
    "# cbar2 = fig.colorbar(height_plot,cax=cbar2_ax)\n",
    "# cbar2.ax.tick_params(labelsize=12)\n",
    "# cbar2.set_label('ATL07 Height (m)',fontsize=12)"
   ]
  },
  {
   "cell_type": "code",
   "execution_count": 225,
   "metadata": {},
   "outputs": [],
   "source": [
    "# # basic plot of atl07\n",
    "# plt.subplots(figsize=(10,5)) # set size\n",
    "# #plt.pcolormesh(sst_array[0], cmap='viridis')\n",
    "# #plt.colorbar(label='SST (kelvin)')\n",
    "# plt.scatter(atl07.longitude, atl07.latitude,\n",
    "#           c=atl07.height_segment_height, vmax=1.5,\n",
    "#           cmap='Reds', alpha=0.6, s=1)  \n",
    "# plt.colorbar(label='ATL07 Height (m)')\n",
    "# plt.show()"
   ]
  },
  {
   "cell_type": "code",
   "execution_count": 224,
   "metadata": {},
   "outputs": [],
   "source": [
    "# #basic plot of sst\n",
    "# plt.subplots(figsize=(10,5)) # set size\n",
    "# sst['sea_surface_temperature'].plot(cmap='viridis');"
   ]
  },
  {
   "cell_type": "markdown",
   "metadata": {},
   "source": [
    "# Move to different notebook: Point search testing...\n",
    "\n",
    "Argo float data from [this search](https://nrlgodae1.nrlmry.navy.mil/cgi-bin/argo_select.pl?startyear=2020&startmonth=11&startday=01&endyear=2020&endmonth=11&endday=03&Nlat=75&Wlon=-80&Elon=-45&Slat=50&dac=ALL&floatid=ALL&gentype=plt&.submit=++Go++&.cgifields=endyear&.cgifields=dac&.cgifields=delayed&.cgifields=startyear&.cgifields=endmonth&.cgifields=endday&.cgifields=startday&.cgifields=startmonth&.cgifields=gentype)\n",
    "\n",
    "Pull in file with lat lon point locations:"
   ]
  },
  {
   "cell_type": "code",
   "execution_count": null,
   "metadata": {},
   "outputs": [],
   "source": [
    "df = pd.read_csv(\"argo-float-data.csv\")\n",
    "gdf = geopandas.GeoDataFrame(df, geometry = geopandas.points_from_xy(df.Longitude, df.Latitude))\n",
    "gdf"
   ]
  },
  {
   "cell_type": "code",
   "execution_count": null,
   "metadata": {},
   "outputs": [],
   "source": [
    "gdf.to_file('argo-data.geojson', driver='GeoJSON')"
   ]
  },
  {
   "cell_type": "markdown",
   "metadata": {},
   "source": [
    "curl -XPOST \"https://cmr.earthdata.nasa.gov/search/granules\" -F \"shapefile=@argo-data.geojson;type=application/geo+json\" -F \"collection_concept_id=C1706334166-NSIDC_ECS\" -F \"page_size=100\""
   ]
  },
  {
   "cell_type": "code",
   "execution_count": null,
   "metadata": {},
   "outputs": [],
   "source": [
    "search_url = \"https://cmr.earthdata.nasa.gov/search/granules\"\n",
    "files = {\"shapefile\": (\"argo-data.geojson\", open('argo-data.geojson', 'r'), \"application/geo+json\")}\n",
    "parameters = {\n",
    "    \"scroll\": \"true\",\n",
    "    \"page_size\": 100,\n",
    "    # set any search criteria here\n",
    "    \"collection_concept_id\": \"C1706334166-NSIDC_ECS\",\n",
    "}\n",
    "output_format = \"json\"\n",
    "response = requests.post(f\"{search_url}.{output_format}\", data=parameters, files=files)\n",
    "\n",
    "print(\"status:\", response.status_code)\n",
    "print(\"hits:\", response.headers[\"CMR-Hits\"])\n",
    "pprint(response.json()[\"feed\"][\"entry\"][0])\n"
   ]
  },
  {
   "cell_type": "code",
   "execution_count": null,
   "metadata": {},
   "outputs": [],
   "source": []
  }
 ],
 "metadata": {
  "kernelspec": {
   "display_name": "Python 3",
   "language": "python",
   "name": "python3"
  },
  "language_info": {
   "codemirror_mode": {
    "name": "ipython",
    "version": 3
   },
   "file_extension": ".py",
   "mimetype": "text/x-python",
   "name": "python",
   "nbconvert_exporter": "python",
   "pygments_lexer": "ipython3",
   "version": "3.7.8"
  }
 },
 "nbformat": 4,
 "nbformat_minor": 4
}
