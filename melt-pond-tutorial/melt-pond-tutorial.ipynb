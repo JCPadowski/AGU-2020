{
 "cells": [
  {
   "cell_type": "markdown",
   "metadata": {},
   "source": [
    "## **Coincident NASA remote sensing data over the Arctic ocean**\n",
    "### Search and subset data by geographic bounding box\n",
    "\n",
    "Melt ponds are an important feature of Arctic sea ice dynamics, leading to an decrease in sea ice albedo and other changes in heat balance. Many NASA Earthdata datasets produce variables including sea ice albedo, sea surface temperature, air temperature, and sea ice height, which can be used to better understand these dynamics. This notebook walks through the discovery, subsetting, and accessing of multiple data products coincident over an Arctic Ocean melt pond region, demonstrating how to obtain and harmonize coincident remote sensing data. \n",
    "\n",
    "As NASA Earthdata transitions to the Earthdata Cloud, it will be common for some data to exist in a traditional on-premise storage system, accessed by direct download to a local environment, while other data will have migrated to the cloud system. This need to access and customize data from both storage locations is addressed in this notebook: While one dataset's subsetting and access service utilizes the Earthdata Cloud, the data can be discovered and downloaded in the same manner as the other dataset. These Download and Service diagrams, presented in the Introduction, are highlighted in the steps below.\n",
    "\n",
    "\n",
    "<p float=\"left\">\n",
    "  <img src=\"cloud_download.png\" width=\"300\" />\n",
    "  <img src=\"cloud_services.png\" width=\"300\" /> \n",
    "</p>\n",
    "\n",
    "\n",
    "### Learning objectives:\n",
    "1. Select NASA Earthdata sea ice and sea surface temperature datasets\n",
    "2. Identify data file size and availability over time and geographic bounding box\n",
    "3. Subset and download data, from both Earthdata Cloud and on-premise resources, using an Application Programmatic Interface (API)\n",
    "4. Plot and compare coincident data values"
   ]
  },
  {
   "cell_type": "markdown",
   "metadata": {},
   "source": [
    "___\n",
    "\n",
    "### **Explore NASA Earthdata sea ice and ocean products over a melt pond feature of interest**\n",
    "\n",
    "\n",
    "We will be working with a study area just north of Greenland in the Arctic Ocean. The OpenAltimetry application provides on-the-fly visualizations of height measurements produced by ICESat-2, where interesting features can be tagged and shared, like this melt pond observation:\n",
    "\n",
    "\n",
    "\n",
    "<img src=\"OpenAltimetry-study-area.png\" width=\"800\" >\n",
    "\n",
    "Source: https://openaltimetry.org/data/icesat2/?start_date=2019-06-22&annoId=180\n",
    "\n",
    "\n",
    "NASA Earthdata Search enables searching, visualization, and access to data across thousands of Earth science datasets. Additional customization services are available for select datasets, including subsetting, reformatting, and reprojection. The following search results are produced from a sea ice elevation and sea surface temperature keyword search over the region of interest:\n",
    "\n",
    "[NASA Earthdata Search results from SST and sea ice height keyword selection](https://search.earthdata.nasa.gov/search?sb[0]=-62.8%2C81.7%2C-56.4%2C83&m=77.22181155531852!-91.2265556441681!2!0!0!0%2C2&fs10=Sea%20Ice%20Elevation&fsm0=Sea%20Ice&fst0=Cryosphere&fs21=Skin%20Sea%20Surface%20Temperature&fs11=Sea%20Surface%20Temperature&fsm1=Ocean%20Temperature&fst1=Oceans)\n",
    "\n",
    "There are still 15 different datasets listed(!), which highlights the breadth and variety of data cataloged by NASA Earthdata Search. We are selecting two products from this list: Level 3A sea ice height data from the ATLAS instrument onboard ICESat-2 mission, and Global Skin Sea Surface Temperature from the MODIS instrument onboard Terra. \n",
    "\n",
    "Dataset references:\n",
    "\n",
    "* [GHRSST Level 2P Global Sea Surface Skin Temperature from the Moderate Resolution Imaging Spectroradiometer (MODIS) on the NASA Terra satellite (GDS2)](https://doi.org/10.5067/GHMDT-2PJ19)\n",
    "* [ATLAS/ICESat-2 L3A Sea Ice Height](https://doi.org/10.5067/ATLAS/ATL07.003)\n",
    "\n"
   ]
  },
  {
   "cell_type": "markdown",
   "metadata": {},
   "source": [
    "___\n",
    "### **Import packages**"
   ]
  },
  {
   "cell_type": "code",

   "execution_count": 24,
   "metadata": {},
   "outputs": [],
   "source": [
    "import xarray as xr\n",
    "import cartopy\n",
    "from matplotlib import pyplot as plt\n",
    "import numpy.ma as ma\n",
    "\n",
    "import tutorial_helper_functions as fn"
   ]
  },
  {
   "cell_type": "markdown",
   "metadata": {},
   "source": [
    "___ \n",
    "\n",
    "### **Earthdata Login Authentication**\n",
    "\n",
    "An Earthdata Login account is required to access data, as well as discover restricted data, from the NASA Earthdata system. Please visit https://urs.earthdata.nasa.gov to register and manage your Earthdata Login account. This account is free to create and only takes a moment to set up.\n",
    "\n",
    "The `setup_earthdata_login_auth` function will allow Python scripts to log into any Earthdata Login application programmatically.  To avoid being prompted for\n",
    "credentials every time you run and also allow clients such as curl to log in, you can add the following\n",
    "to a `.netrc` (`_netrc` on Windows) file in your home directory:\n",
    "\n",
    "```\n",
    "machine urs.earthdata.nasa.gov\n",
    "    login <your username>\n",
    "    password <your password>\n",
    "```\n",
    "\n",
    "Make sure that this file is only readable by the current user or you will receive an error stating\n",
    "\"netrc access too permissive.\"\n",
    "\n",
    "`$ chmod 0600 ~/.netrc` "
   ]
  },
  {
   "cell_type": "markdown",
   "metadata": {},
   "source": [
    "Set up Earthdata Login authentication for each search, subset, and access request:"
   ]
  },
  {
   "cell_type": "code",
   "execution_count": 2,
   "metadata": {},
   "outputs": [
    {
     "name": "stdin",
     "output_type": "stream",
     "text": [
      "Username:  amy.steiker\n",
      "Password:  ·········\n"
     ]
    },
    {
     "name": "stdout",
     "output_type": "stream",
     "text": [
      "Please provide your Earthdata Login credentials for access.\n",
      "Your info will only be passed to urs.earthdata.nasa.gov and will not be exposed in Jupyter.\n"
     ]
    },
    {
     "name": "stdin",
     "output_type": "stream",
     "text": [
      "Username:  amy.steiker\n",
      "Password:  ·········\n"
     ]
    }
   ],
   "source": [
    "# Get your authentication token for searching restricted records in the CMR:\n",
    "_token = fn.setup_cmr_token_auth(endpoint=\"cmr.earthdata.nasa.gov\")\n",
    "\n",
    "# Start authenticated session with URS to allow restricted data downloads:\n",
    "fn.setup_earthdata_login_auth(endpoint=\"urs.earthdata.nasa.gov\")"
   ]
  },
  {
   "cell_type": "markdown",
   "metadata": {},
   "source": [
    "#### Record time and area of interest \n",
    "\n",
    "These `bounding_box` and `temporal` variables will be used for data search, subset, and access below"
   ]
  },
  {
   "cell_type": "code",
   "execution_count": 3,
   "metadata": {},
   "outputs": [],
   "source": [
    "# Bounding Box spatial parameter in decimal degree 'W,S,E,N' format.\n",
    "bounding_box = '-62.8,81.7,-56.4,83'\n",
    "\n",
    "# Each date in yyyy-MM-ddTHH:mm:ssZ format; date range in start,end format\n",
    "temporal = '2019-06-22T00:00:00Z,2019-06-22T23:59:59Z'"
   ]
  },
  {
   "cell_type": "markdown",
   "metadata": {},
   "source": [
    "#### Explore data availability using the Common Metadata Repository\n",
    "The Common Metadata Repository (CMR) is a robust metadata system that catalogs Earth Science data and associated service metadata records. CMR supports data search and discovery through an Application Programming Interface, or API, enabling reproducible data product and data file searches using a number of helpful variables, including geographic area, keyword, and time.\n",
    "\n",
    "General CMR API documentation: https://cmr.earthdata.nasa.gov/search/site/docs/search/api.html\n",
    "\n"
   ]
  },
  {
   "cell_type": "markdown",
   "metadata": {},
   "source": [
    "NASA Earthdata Search can be used to visualize file coverage over mulitple data sets and to access the same data you will be working with below: [insert URL with same search here]\n",
    "\n",
    "Data sets are selected by data set IDs (e.g. ATL07). In the CMR API documentation, a data set id is referred to as a \"short name\". These short names are located at the top of each NSIDC data set landing page in gray above the full title. \n",
    "\n",
    "Start by creating a nested dictionary with each data set shortname and version, as well as shared temporal range and area of interest. Data set shortnames, or IDs, as well as version numbers, are located at the top of every NSIDC landing page."
   ]
  },
  {
   "cell_type": "code",
   "execution_count": 4,
   "metadata": {},
   "outputs": [],
   "source": [
    "search_parameters = { \n",
    "    'height': {'short_name': 'ATL07','version': '003', 'provider': 'NSIDC_ECS','bounding_box': bounding_box,'temporal': temporal},\n",
    "    'sst': {'short_name': 'MODIS_T-JPL-L2P-v2019.0','version': '2019.0','provider': 'POCLOUD','bounding_box': bounding_box,'temporal': temporal},\n",
    "            }"
   ]
  },
  {
   "cell_type": "markdown",
   "metadata": {},
   "source": [
    "#### Discover file number and file size \n",
    "\n",
    "Using CMR search, determine the number of files that exist over this time and area of interest, as well as the average size and total volume of those files."
   ]
  },
  {
   "cell_type": "code",
   "execution_count": 5,
   "metadata": {},
   "outputs": [
    {
     "name": "stdout",
     "output_type": "stream",
     "text": [
      "Found 2 files\n",
      "The total size of all files is 461.70 MB\n",
      "Found 11 files\n",
      "The total size of all files is 102.69 MB\n"
     ]
    }
   ],
   "source": [
    "for k, v in search_parameters.items(): fn.search_granules(search_parameters[k], _token)"
   ]
  },
  {
   "cell_type": "markdown",
   "metadata": {},
   "source": [
    "Note that subsetting, reformatting, or reprojecting can alter the size of the granules if those services are applied to your request.\n",
    "\n"
   ]
  },
  {
   "cell_type": "markdown",
   "metadata": {},
   "source": [
    "### **Data Access and Subsetting**\n",
    "\n",
    "#### Determine subsetting service options\n",
    "\n",
    "We can also use CMR search to determine what transformation services, such as spatial subsetting, reformatting, reprojection, and resampling, are available for each data product. "
   ]
  },
  {
   "cell_type": "code",
   "execution_count": 6,
   "metadata": {},
   "outputs": [
    {
     "name": "stdout",
     "output_type": "stream",
     "text": [
      "ATL07 :\n",
      "{'Subset': {'SpatialSubset': {'BoundingBox': {'AllowMultipleValues': False},\n",
      "                              'Shapefile': [{'Format': 'ESRI'},\n",
      "                                            {'Format': 'KML'},\n",
      "                                            {'Format': 'GeoJSON'}]},\n",
      "            'TemporalSubset': {'AllowMultipleValues': False},\n",
      "            'VariableSubset': {'AllowMultipleValues': True}},\n",
      " 'SupportedReformattings': [{'SupportedInputFormat': 'HDF5',\n",
      "                             'SupportedOutputFormats': ['ASCII',\n",
      "                                                        'NETCDF-3',\n",
      "                                                        'NETCDF-4',\n",
      "                                                        'Shapefile']}]}\n",
      "MODIS_T-JPL-L2P-v2019.0 :\n",
      "{'SupportedReformattings': [{'SupportedInputFormat': 'HDF5',\n",
      "                             'SupportedOutputFormats': ['NETCDF-4']},\n",
      "                            {'SupportedInputFormat': 'NETCDF-4',\n",
      "                             'SupportedOutputFormats': ['NETCDF-4']}]}\n"
     ]
    }
   ],
   "source": [
    "for k, v in search_parameters.items(): \n",
    "    print(search_parameters[k]['short_name'],\":\")\n",
    "    fn.search_services(search_parameters[k], _token)"
   ]
  },
  {
   "cell_type": "markdown",
   "metadata": {},
   "source": [
    "For our purposes, even though there are several other options for spatial area input like shapefile (see previous tutorial for this!), we'll use a simple bounding box to crop our data to that area. "
   ]
  },
  {
   "cell_type": "markdown",
   "metadata": {},
   "source": [
    "### Data Access"
   ]
  },
  {
   "cell_type": "markdown",
   "metadata": {},
   "source": [
    "#### Data Access from NSIDC outside of Earthdata Cloud\n",
    "\n",
    "ATL07, along with many other products availabe at the NSIDC DAAC, can be customized through subsetting, reformatting, and/or reprojection services prior to data access. Those options are available via a custom NSIDC API. These request options can be specified in a parameter dictionary to create the API endpoint. Insert your email into the `param_dict` to receive an email notification with your data order:"
   ]
  },
  {
   "cell_type": "code",
   "execution_count": 7,
   "metadata": {},
   "outputs": [
    {
     "name": "stdout",
     "output_type": "stream",
     "text": [
      "https://n5eil02u.ecs.nsidc.org/egi/request?short_name=ATL07&version=003&temporal=2019-06-22T00:00:00Z,2019-06-22T23:59:59Z&bounding_box=-62.8,81.7,-56.4,83&bbox=-62.8,81.7,-56.4,83&page_size=10&request_mode=async\n"
     ]
    }
   ],
   "source": [
    "#Set NSIDC data access base URL\n",
    "base_url = 'https://n5eil02u.ecs.nsidc.org/egi/request'\n",
    "\n",
    "# bounding box search and subset:\n",
    "param_dict = {'short_name': 'ATL07', \n",
    "              'version': '003', \n",
    "              'temporal': temporal, \n",
    "              'bounding_box': bounding_box, \n",
    "              'bbox': bounding_box, \n",
    "              'page_size': '10', \n",
    "              'request_mode': 'async',\n",
    "              'email': '', }\n",
    "\n",
    "#Remove blank key-value-pairs\n",
    "param_dict = {k: v for k, v in param_dict.items() if v != ''}\n",
    "\n",
    "#Convert to string\n",
    "param_string = '&'.join(\"{!s}={!r}\".format(k,v) for (k,v) in param_dict.items())\n",
    "param_string = param_string.replace(\"'\",\"\")\n",
    "\n",
    "API_request = api_request = f'{base_url}?{param_string}'\n",
    "print(API_request)"
   ]
  },
  {
   "cell_type": "code",
   "execution_count": 8,
   "metadata": {},
   "outputs": [
    {
     "name": "stdout",
     "output_type": "stream",
     "text": [
      "Order status URL:  https://n5eil02u.ecs.nsidc.org/egi/request/5000000928676\n",
      "Job status is  processing . Trying again.\n",
      "Job status is  complete\n",
      "Zip download URL:  https://n5eil02u.ecs.nsidc.org/esir/5000000928676.zip\n",
      "Beginning download of zipped output...\n",
      "Download is complete.\n"
     ]
    }
   ],
   "source": [
    "fn.request_nsidc_data(API_request)"
   ]
  },
  {
   "cell_type": "markdown",
   "metadata": {},
   "source": [
    "#### Data Access using Earthdata Cloud services\n",
    "\n",
    "The GHRSST MODIS data can be subsetted and accessed via [Earthdata Harmony](https://harmony.earthdata.nasa.gov/). These services are processed in the cloud, with data archived in the cloud, and outputs can be accessed by downloading to a local machine or through direct in-region access via Amazon Web Services. "
   ]
  },
  {
   "cell_type": "code",
   "execution_count": 10,
   "metadata": {},
   "outputs": [
    {
     "name": "stdout",
     "output_type": "stream",
     "text": [
      "Request URL https://harmony.earthdata.nasa.gov/C1940475563-POCLOUD/ogc-api-coverages/1.0.0/collections/all/coverage/rangeset?&subset=lat(81.7:83)&subset=lon(-62.8:-56.4)&subset=time(\"2019-06-22T00:00:00Z\":\"2019-06-22T23:59:59Z\")\n",
      "{'createdAt': '2020-11-24T02:28:08.505Z',\n",
      " 'jobID': 'd2416155-5eba-49d3-8472-07b6cb3ecf8e',\n",
      " 'links': [{'href': 'https://harmony.earthdata.nasa.gov/jobs/d2416155-5eba-49d3-8472-07b6cb3ecf8e',\n",
      "            'rel': 'self',\n",
      "            'title': 'Job Status',\n",
      "            'type': 'application/json'}],\n",
      " 'message': 'The job is being processed',\n",
      " 'progress': 0,\n",
      " 'request': 'https://harmony.earthdata.nasa.gov/C1940475563-POCLOUD/ogc-api-coverages/1.0.0/collections/all/coverage/rangeset?subset=lat(81.7%3A83)&subset=lon(-62.8%3A-56.4)&subset=time(%222019-06-22T00%3A00%3A00Z%22%3A%222019-06-22T23%3A59%3A59Z%22)',\n",
      " 'status': 'running',\n",
      " 'updatedAt': '2020-11-24T02:28:08.505Z',\n",
      " 'username': 'amy.steiker'}\n",
      "Job URL https://harmony.earthdata.nasa.gov/jobs/d2416155-5eba-49d3-8472-07b6cb3ecf8e\n",
      "Job response:\n",
      "\n",
      "{'createdAt': '2020-11-24T02:28:08.505Z',\n",
      " 'jobID': 'd2416155-5eba-49d3-8472-07b6cb3ecf8e',\n",
      " 'links': [{'href': 'https://harmony.earthdata.nasa.gov/jobs/d2416155-5eba-49d3-8472-07b6cb3ecf8e',\n",
      "            'rel': 'self',\n",
      "            'title': 'Job Status',\n",
      "            'type': 'application/json'}],\n",
      " 'message': 'The job is being processed',\n",
      " 'progress': 0,\n",
      " 'request': 'https://harmony.earthdata.nasa.gov/C1940475563-POCLOUD/ogc-api-coverages/1.0.0/collections/all/coverage/rangeset?subset=lat(81.7%3A83)&subset=lon(-62.8%3A-56.4)&subset=time(%222019-06-22T00%3A00%3A00Z%22%3A%222019-06-22T23%3A59%3A59Z%22)',\n",
      " 'status': 'running',\n",
      " 'updatedAt': '2020-11-24T02:28:08.505Z',\n",
      " 'username': 'amy.steiker'}\n",
      "Job status is running. Progress is  0 %. Trying again.\n",
      "Job status is running. Progress is  9 %. Trying again.\n",
      "Job status is running. Progress is  27 %. Trying again.\n",
      "Job status is running. Progress is  36 %. Trying again.\n",
      "Job status is running. Progress is  54 %. Trying again.\n",
      "Job status is running. Progress is  72 %. Trying again.\n",
      "Job status is running. Progress is  90 %. Trying again.\n",
      "Job progress is 100%. Output links printed below:\n",
      "https://harmony.earthdata.nasa.gov/service-results/harmony-prod-staging/public/podaac/l2-subsetter/f5229870-9f15-4914-8c9c-4005b991561b/20190622061001-JPL-L2P_GHRSST-SSTskin-MODIS_T-D-v02.0-fv01.0_subsetted.nc\n",
      "https://harmony.earthdata.nasa.gov/service-results/harmony-prod-staging/public/podaac/l2-subsetter/f5229870-9f15-4914-8c9c-4005b991561b/20190622093001-JPL-L2P_GHRSST-SSTskin-MODIS_T-D-v02.0-fv01.0_subsetted.nc\n",
      "https://harmony.earthdata.nasa.gov/service-results/harmony-prod-staging/public/podaac/l2-subsetter/f5229870-9f15-4914-8c9c-4005b991561b/20190622111001-JPL-L2P_GHRSST-SSTskin-MODIS_T-D-v02.0-fv01.0_subsetted.nc\n",
      "https://harmony.earthdata.nasa.gov/service-results/harmony-prod-staging/public/podaac/l2-subsetter/f5229870-9f15-4914-8c9c-4005b991561b/20190622125000-JPL-L2P_GHRSST-SSTskin-MODIS_T-D-v02.0-fv01.0_subsetted.nc\n",
      "https://harmony.earthdata.nasa.gov/service-results/harmony-prod-staging/public/podaac/l2-subsetter/f5229870-9f15-4914-8c9c-4005b991561b/20190622142500-JPL-L2P_GHRSST-SSTskin-MODIS_T-D-v02.0-fv01.0_subsetted.nc\n",
      "https://harmony.earthdata.nasa.gov/service-results/harmony-prod-staging/public/podaac/l2-subsetter/f5229870-9f15-4914-8c9c-4005b991561b/20190622143000-JPL-L2P_GHRSST-SSTskin-MODIS_T-D-v02.0-fv01.0_subsetted.nc\n",
      "https://harmony.earthdata.nasa.gov/service-results/harmony-prod-staging/public/podaac/l2-subsetter/f5229870-9f15-4914-8c9c-4005b991561b/20190622160501-JPL-L2P_GHRSST-SSTskin-MODIS_T-D-v02.0-fv01.0_subsetted.nc\n",
      "https://harmony.earthdata.nasa.gov/service-results/harmony-prod-staging/public/podaac/l2-subsetter/f5229870-9f15-4914-8c9c-4005b991561b/20190622161000-JPL-L2P_GHRSST-SSTskin-MODIS_T-D-v02.0-fv01.0_subsetted.nc\n",
      "https://harmony.earthdata.nasa.gov/service-results/harmony-prod-staging/public/podaac/l2-subsetter/f5229870-9f15-4914-8c9c-4005b991561b/20190622174501-JPL-L2P_GHRSST-SSTskin-MODIS_T-D-v02.0-fv01.0_subsetted.nc\n",
      "https://harmony.earthdata.nasa.gov/service-results/harmony-prod-staging/public/podaac/l2-subsetter/f5229870-9f15-4914-8c9c-4005b991561b/20190622192501-JPL-L2P_GHRSST-SSTskin-MODIS_T-D-v02.0-fv01.0_subsetted.nc\n",
      "https://harmony.earthdata.nasa.gov/service-results/harmony-prod-staging/public/podaac/l2-subsetter/f5229870-9f15-4914-8c9c-4005b991561b/20190622210001-JPL-L2P_GHRSST-SSTskin-MODIS_T-D-v02.0-fv01.0_subsetted.nc\n"
     ]
    }
   ],
   "source": [
    "fn.request_harmony_data(search_parameters[\"sst\"], _token)"
   ]
  },
  {
   "cell_type": "markdown",
   "metadata": {},
   "source": [
    "___ \n",
    "### **Data Plotting and Comparison** \n",
    "\n",
    "Read in a single file from each of our API outputs:\n",
    "\n",
    "* MODIS_T-JPL-L2P-v2019.0: \n",
    "    * 20190622192501-JPL-L2P_GHRSST-SSTskin-MODIS_T-D-v02.0-fv01.0_subsetted.nc \n",
    "    \n",
    "* ATL07:\n",
    "    * processed_ATL07-01_20190622200154_13070301_003_02.h5\n",
    "    \n",
    "More description on file structures and libraries used to read the data"
   ]
  },
  {
   "cell_type": "markdown",
   "metadata": {},
   "source": [
    "#### Read in MODIS_T-JPL-L2P-v2019.0"
   ]
  },
  {
   "cell_type": "code",
   "execution_count": 13,
   "metadata": {},
   "outputs": [
    {
     "data": {
      "text/plain": [
       "['lat',\n",
       " 'lon',\n",
       " 'sea_surface_temperature',\n",
       " 'sst_dtime',\n",
       " 'quality_level',\n",
       " 'sses_bias',\n",
       " 'sses_standard_deviation',\n",
       " 'l2p_flags',\n",
       " 'chlorophyll_a',\n",
       " 'K_490',\n",
       " 'wind_speed',\n",
       " 'dt_analysis',\n",
       " 'time']"
      ]
     },
     "execution_count": 13,
     "metadata": {},
     "output_type": "execute_result"
    }
   ],
   "source": [
    "filepath = './20190622192501-JPL-L2P_GHRSST-SSTskin-MODIS_T-D-v02.0-fv01.0_subsetted.nc' # Define local filepath \n",
    "\n",
    "sst = xr.open_dataset(filepath)\n",
    "list(sst.variables)"
   ]
  },
  {
   "cell_type": "markdown",
   "metadata": {},
   "source": [
    "#### Read in ATL07"
   ]
  },
  {
   "cell_type": "code",
   "execution_count": 33,
   "metadata": {},
   "outputs": [
    {
     "data": {
      "text/html": [
       "<div>\n",
       "<style scoped>\n",
       "    .dataframe tbody tr th:only-of-type {\n",
       "        vertical-align: middle;\n",
       "    }\n",
       "\n",
       "    .dataframe tbody tr th {\n",
       "        vertical-align: top;\n",
       "    }\n",
       "\n",
       "    .dataframe thead th {\n",
       "        text-align: right;\n",
       "    }\n",
       "</style>\n",
       "<table border=\"1\" class=\"dataframe\">\n",
       "  <thead>\n",
       "    <tr style=\"text-align: right;\">\n",
       "      <th></th>\n",
       "      <th>beam</th>\n",
       "      <th>delta_time</th>\n",
       "      <th>height_segment_height</th>\n",
       "      <th>latitude</th>\n",
       "      <th>longitude</th>\n",
       "      <th>filename</th>\n",
       "    </tr>\n",
       "  </thead>\n",
       "  <tbody>\n",
       "    <tr>\n",
       "      <th>42559</th>\n",
       "      <td>gt3l</td>\n",
       "      <td>4.647045e+07</td>\n",
       "      <td>0.591261</td>\n",
       "      <td>82.177667</td>\n",
       "      <td>-58.927473</td>\n",
       "      <td>processed_ATL07-01_20190622200154_13070301_003...</td>\n",
       "    </tr>\n",
       "    <tr>\n",
       "      <th>42560</th>\n",
       "      <td>gt3l</td>\n",
       "      <td>4.647045e+07</td>\n",
       "      <td>0.430999</td>\n",
       "      <td>82.177605</td>\n",
       "      <td>-58.927597</td>\n",
       "      <td>processed_ATL07-01_20190622200154_13070301_003...</td>\n",
       "    </tr>\n",
       "    <tr>\n",
       "      <th>42561</th>\n",
       "      <td>gt3l</td>\n",
       "      <td>4.647045e+07</td>\n",
       "      <td>0.116308</td>\n",
       "      <td>82.177523</td>\n",
       "      <td>-58.927759</td>\n",
       "      <td>processed_ATL07-01_20190622200154_13070301_003...</td>\n",
       "    </tr>\n",
       "    <tr>\n",
       "      <th>42562</th>\n",
       "      <td>gt3l</td>\n",
       "      <td>4.647045e+07</td>\n",
       "      <td>-0.346326</td>\n",
       "      <td>82.177312</td>\n",
       "      <td>-58.928180</td>\n",
       "      <td>processed_ATL07-01_20190622200154_13070301_003...</td>\n",
       "    </tr>\n",
       "    <tr>\n",
       "      <th>42563</th>\n",
       "      <td>gt3l</td>\n",
       "      <td>4.647045e+07</td>\n",
       "      <td>-0.122129</td>\n",
       "      <td>82.177207</td>\n",
       "      <td>-58.928390</td>\n",
       "      <td>processed_ATL07-01_20190622200154_13070301_003...</td>\n",
       "    </tr>\n",
       "  </tbody>\n",
       "</table>\n",
       "</div>"
      ],
      "text/plain": [
       "       beam    delta_time  height_segment_height   latitude  longitude  \\\n",
       "42559  gt3l  4.647045e+07               0.591261  82.177667 -58.927473   \n",
       "42560  gt3l  4.647045e+07               0.430999  82.177605 -58.927597   \n",
       "42561  gt3l  4.647045e+07               0.116308  82.177523 -58.927759   \n",
       "42562  gt3l  4.647045e+07              -0.346326  82.177312 -58.928180   \n",
       "42563  gt3l  4.647045e+07              -0.122129  82.177207 -58.928390   \n",
       "\n",
       "                                                filename  \n",
       "42559  processed_ATL07-01_20190622200154_13070301_003...  \n",
       "42560  processed_ATL07-01_20190622200154_13070301_003...  \n",
       "42561  processed_ATL07-01_20190622200154_13070301_003...  \n",
       "42562  processed_ATL07-01_20190622200154_13070301_003...  \n",
       "42563  processed_ATL07-01_20190622200154_13070301_003...  "
      ]
     },
     "execution_count": 33,
     "metadata": {},
     "output_type": "execute_result"
    }
   ],
   "source": [
    "atl_filepath = './Outputs/processed_ATL07-01_20190622200154_13070301_003_02.h5' # Define local filepath \n",
    "\n",
    "VARIABLES = {\n",
    "    'ATL07': [\n",
    "        '/gt1l/sea_ice_segments/delta_time',\n",
    "        '/gt1l/sea_ice_segments/latitude',\n",
    "        '/gt1l/sea_ice_segments/longitude',\n",
    "        '/gt1l/sea_ice_segments/heights/height_segment_height',\n",
    "        '/gt2l/sea_ice_segments/delta_time',\n",
    "        '/gt2l/sea_ice_segments/latitude',\n",
    "        '/gt2l/sea_ice_segments/longitude',\n",
    "        '/gt2l/sea_ice_segments/heights/height_segment_height',\n",
    "        '/gt3l/sea_ice_segments/delta_time',\n",
    "        '/gt3l/sea_ice_segments/latitude',\n",
    "        '/gt3l/sea_ice_segments/longitude',\n",
    "        '/gt3l/sea_ice_segments/heights/height_segment_height',]\n",
    "}\n",
    "\n",
    "atl07 = fn.load_icesat2_as_dataframe(atl_filepath, VARIABLES)\n",
    "atl07.tail()"
   ]
  },
  {
   "cell_type": "markdown",
   "metadata": {},
   "source": [
    "#### Plot Data \n",
    "\n",
    "More on data plotting methods..."
   ]
  },
  {
   "cell_type": "code",
   "execution_count": 37,
   "metadata": {},
   "outputs": [
    {
     "data": {
      "image/png": "[encoded data removed]",
      "text/plain": [
       "<Figure size 1008x432 with 2 Axes>"
      ]
     },
     "metadata": {
      "needs_background": "light"
     },
     "output_type": "display_data"
    }
   ],
   "source": [
    "#Convert sst data array to masked array:\n",
    "lon = ma.masked_invalid(sst['lon'])\n",
    "lat = ma.masked_invalid(sst['lat'])\n",
    "sst_array = ma.masked_invalid(sst['sea_surface_temperature'])\n",
    "\n",
    "# adapted from https://bairdlangenbrunner.github.io/python-for-climate-scientists/matplotlib/pcolormesh-grid-fix.html\n",
    "map_proj = cartopy.crs.NorthPolarStereo()\n",
    "data_proj = cartopy.crs.PlateCarree()\n",
    "#geodetic_proj = cartopy.crs.PlateCarree()\n",
    "\n",
    "fig = plt.figure(figsize=(14,6))\n",
    "ax = fig.add_subplot(111, projection=map_proj)\n",
    "#ax.coastlines(color='red')\n",
    "sst_plot = ax.pcolor(lon,\\\n",
    "                      lat,\\\n",
    "                      sst_array[0],\\\n",
    "                      transform=data_proj)\n",
    "ax.set_extent([-61.5,-53.5,81.5,83.5])\n",
    "\n",
    "# add colorbar\n",
    "axpos = ax.get_position()\n",
    "cbar_ax = fig.add_axes([axpos.x1+0,axpos.y0,0.03,axpos.height])\n",
    "cbar = fig.colorbar(sst_plot, cax=cbar_ax)\n",
    "cbar.ax.tick_params(labelsize=12)\n",
    "cbar.set_label('sst (kelvin)', fontsize=12)\n",
    "\n",
    "height_plot = ax.scatter(atl07.longitude,\\\n",
    "                        atl07.latitude,\\\n",
    "                        c=atl07.height_segment_height,\\\n",
    "                        vmax=1.5,\\\n",
    "                        cmap='Reds',\\\n",
    "                        alpha=0.7,\\\n",
    "                        s=1,\\\n",
    "                        transform=data_proj)\n",
    "# cbar2_ax = fig.add_axes([axpos.x1+0,axpos.y0,0.03,axpos.height])\n",
    "# cbar2 = fig.colorbar(height_plot,cax=cbar2_ax)\n",
    "# cbar2.ax.tick_params(labelsize=12)\n",
    "# cbar2.set_label('ATL07 Height (m)',fontsize=12)"
   ]
  },
  {
   "cell_type": "code",
   "execution_count": 38,
   "metadata": {
    "jupyter": {
     "source_hidden": true
    }
   },
   "outputs": [],
   "source": [
    "# filepath = './20190622192501-JPL-L2P_GHRSST-SSTskin-MODIS_T-D-v02.0-fv01.0_subsetted.nc' # Define local filepath \n",
    "\n",
    "# sst = xr.open_dataset(filepath)\n",
    "# list(sst.variables)\n",
    "\n",
    "# da = xr.DataArray(sst['sea_surface_temperature'], dims=['x', 'y'], coords={'lon': (['x', 'y'], lon), 'lat': (['x', 'y'], lat)})\n",
    "\n",
    "# # basic plot of atl07\n",
    "# plt.subplots(figsize=(10,5)) # set size\n",
    "# #plt.pcolormesh(sst_array[0], cmap='viridis')\n",
    "# #plt.colorbar(label='SST (kelvin)')\n",
    "# plt.scatter(atl07.longitude, atl07.latitude,\n",
    "#           c=atl07.height_segment_height, vmax=1.5,\n",
    "#           cmap='Reds', alpha=0.6, s=1)  \n",
    "# plt.colorbar(label='ATL07 Height (m)')\n",
    "# plt.show()\n",
    "\n",
    "# #basic plot of sst\n",
    "# plt.subplots(figsize=(10,5)) # set size\n",
    "# sst['sea_surface_temperature'].plot(cmap='viridis');"
   ]
  },
  {
   "cell_type": "code",
   "execution_count": null,
   "metadata": {},
   "outputs": [],
   "source": []
  }
 ],
 "metadata": {
  "kernelspec": {
   "display_name": "Python 3",
   "language": "python",
   "name": "python3"
  },
  "language_info": {
   "codemirror_mode": {
    "name": "ipython",
    "version": 3
   },
   "file_extension": ".py",
   "mimetype": "text/x-python",
   "name": "python",
   "nbconvert_exporter": "python",
   "pygments_lexer": "ipython3",
   "version": "3.7.8"
  },
  "toc": {
   "base_numbering": 1,
   "nav_menu": {},
   "number_sections": true,
   "sideBar": true,
   "skip_h1_title": false,
   "title_cell": "Table of Contents",
   "title_sidebar": "Contents",
   "toc_cell": false,
   "toc_position": {},
   "toc_section_display": true,
   "toc_window_display": false
  }
 },
 "nbformat": 4,
 "nbformat_minor": 4
}
