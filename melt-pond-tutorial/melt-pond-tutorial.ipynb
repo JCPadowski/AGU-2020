{
 "cells": [
  {
   "cell_type": "markdown",
   "metadata": {},
   "source": [
    "# Sea ice and ocean data access and analysis \n",
    "\n",
    "Accessing coincident sea ice and ocean data to study melt pond characteristics.\n",
    "\n",
    "Intro to use case, motivation, connections to cloud migration, learning objectives..."
   ]
  },
  {
   "cell_type": "markdown",
   "metadata": {},
   "source": [
    "## Explore NASA Earthdata sea ice and ocean products...\n",
    "\n",
    "... highlight key search terms and data availability across NASA DAACs..."
   ]
  },
  {
   "cell_type": "markdown",
   "metadata": {},
   "source": [
    "## Import packages"
   ]
  },
  {
   "cell_type": "code",
   "execution_count": 3,
   "metadata": {
    "ExecuteTime": {
     "end_time": "2020-11-16T20:22:39.352251Z",
     "start_time": "2020-11-16T20:22:39.346792Z"
    }
   },
   "outputs": [
    {
     "ename": "ModuleNotFoundError",
     "evalue": "No module named 'gql'",
     "output_type": "error",
     "traceback": [
      "\u001b[0;31m---------------------------------------------------------------------------\u001b[0m",
      "\u001b[0;31mModuleNotFoundError\u001b[0m                       Traceback (most recent call last)",
      "\u001b[0;32m<ipython-input-3-8652bb2c73a0>\u001b[0m in \u001b[0;36m<module>\u001b[0;34m\u001b[0m\n\u001b[0;32m----> 1\u001b[0;31m \u001b[0;32mfrom\u001b[0m \u001b[0mgql\u001b[0m \u001b[0;32mimport\u001b[0m \u001b[0mgql\u001b[0m\u001b[0;34m,\u001b[0m \u001b[0mClient\u001b[0m\u001b[0;34m\u001b[0m\u001b[0;34m\u001b[0m\u001b[0m\n\u001b[0m\u001b[1;32m      2\u001b[0m \u001b[0;32mfrom\u001b[0m \u001b[0mgql\u001b[0m\u001b[0;34m.\u001b[0m\u001b[0mtransport\u001b[0m\u001b[0;34m.\u001b[0m\u001b[0mrequests\u001b[0m \u001b[0;32mimport\u001b[0m \u001b[0mRequestsHTTPTransport\u001b[0m\u001b[0;34m\u001b[0m\u001b[0;34m\u001b[0m\u001b[0m\n\u001b[1;32m      3\u001b[0m \u001b[0;32mfrom\u001b[0m \u001b[0mpprint\u001b[0m \u001b[0;32mimport\u001b[0m \u001b[0mpprint\u001b[0m\u001b[0;34m\u001b[0m\u001b[0;34m\u001b[0m\u001b[0m\n\u001b[1;32m      4\u001b[0m \u001b[0;32mimport\u001b[0m \u001b[0mgetpass\u001b[0m\u001b[0;34m\u001b[0m\u001b[0;34m\u001b[0m\u001b[0m\n\u001b[1;32m      5\u001b[0m \u001b[0;32mimport\u001b[0m \u001b[0mrequests\u001b[0m\u001b[0;34m\u001b[0m\u001b[0;34m\u001b[0m\u001b[0m\n",
      "\u001b[0;31mModuleNotFoundError\u001b[0m: No module named 'gql'"
     ]
    }
   ],
   "source": [
    "from gql import gql, Client\n",
    "from gql.transport.requests import RequestsHTTPTransport\n",
    "from pprint import pprint\n",
    "import getpass\n",
    "import requests\n",
    "import json\n",
    "import random\n",
    "from statistics import mean\n",
    "import pandas as pd\n",
    "import geopandas\n",
    "import os\n",
    "from xml.etree import ElementTree as ET\n",
    "import shutil\n",
    "import time\n",
    "import zipfile\n",
    "import io\n",
    "import xarray as xr\n",
    "import h5py\n",
    "from pathlib import Path\n",
    "import numpy as np\n",
    "from matplotlib import pyplot as plt"
   ]
  },
  {
   "cell_type": "markdown",
   "metadata": {},
   "source": [
    "## Data Discovery\n",
    "\n",
    "Start by identifying your study area and exploring coincident data over the same time and area.\n",
    "\n",
    "NASA Earthdata Search can be used to visualize file coverage over mulitple data sets and to access the same data you will be working with below: [insert URL with same search here]\n"
   ]
  },
  {
   "cell_type": "markdown",
   "metadata": {},
   "source": [
    "### Identify time and area of interest\n",
    "\n",
    "\n",
    "Study area: Using OA melt pond annotation as an example: https://openaltimetry.org/data/icesat2/?start_date=2019-06-22&annoId=180\n",
    "\n",
    "- Temporal coverage: 22 June 2019\n",
    "- Bounding area: -62.8,81.7,-56.4,83\n",
    "\n",
    "\n",
    "\n",
    "<img align=\"left\"\n",
    "     src=\"OpenAltimetry-study-area.png\">"
   ]
  },
  {
   "cell_type": "code",
   "execution_count": null,
   "metadata": {
    "ExecuteTime": {
     "end_time": "2020-11-16T20:21:40.801628Z",
     "start_time": "2020-11-16T20:21:40.769Z"
    }
   },
   "outputs": [],
   "source": [
    "# Bounding Box spatial parameter in decimal degree 'W,S,E,N' format.\n",
    "bounding_box = '-62.8,81.7,-56.4,83'\n",
    "# Each date in yyyy-MM-ddTHH:mm:ssZ format; date range in start,end format\n",
    "temporal = '2019-06-22T00:00:00Z,2019-06-22T23:59:59Z'"
   ]
  },
  {
   "cell_type": "markdown",
   "metadata": {},
   "source": [
    "### Explore data availability using the Common Metadata Repository\n",
    "The Common Metadata Repository (CMR) is a high-performance, high-quality, continuously evolving metadata system that catalogs Earth Science data and associated service metadata records. These metadata records are registered, modified, discovered, and accessed through programmatic interfaces leveraging standard protocols and APIs.\n",
    "\n",
    "General CMR API documentation: https://cmr.earthdata.nasa.gov/search/site/docs/search/api.html\n",
    "\n",
    "***[below is background for development - will not include in final notebook]***\n",
    "\n",
    "#### Configure a CMR GraphQL client\n",
    "Using qgl we can communicate with the CMR GraphQL endpoint in a standards-based way, allowing for schema introspection. gql isn't the only python GraphQL client library out there. Other libraries might provide features you value, like gql-next's static type generation functionality.\n",
    "\n",
    "GraphQL endpoint documentation and interactive playground: https://graphql.earthdata.nasa.gov/api"
   ]
  },
  {
   "cell_type": "code",
   "execution_count": 2,
   "metadata": {
    "ExecuteTime": {
     "end_time": "2020-11-16T20:21:42.798678Z",
     "start_time": "2020-11-16T20:21:42.792987Z"
    }
   },
   "outputs": [
    {
     "ename": "NameError",
     "evalue": "name 'RequestsHTTPTransport' is not defined",
     "output_type": "error",
     "traceback": [
      "\u001b[0;31m---------------------------------------------------------------------------\u001b[0m",
      "\u001b[0;31mNameError\u001b[0m                                 Traceback (most recent call last)",
      "\u001b[0;32m<ipython-input-2-424a4d21897c>\u001b[0m in \u001b[0;36m<module>\u001b[0;34m\u001b[0m\n\u001b[1;32m      1\u001b[0m \u001b[0mCMR_GRAPHQL_URL\u001b[0m \u001b[0;34m=\u001b[0m \u001b[0;34m'https://graphql.earthdata.nasa.gov/api'\u001b[0m\u001b[0;34m\u001b[0m\u001b[0;34m\u001b[0m\u001b[0m\n\u001b[0;32m----> 2\u001b[0;31m sample_transport=RequestsHTTPTransport(\n\u001b[0m\u001b[1;32m      3\u001b[0m     \u001b[0murl\u001b[0m\u001b[0;34m=\u001b[0m\u001b[0mCMR_GRAPHQL_URL\u001b[0m\u001b[0;34m,\u001b[0m\u001b[0;34m\u001b[0m\u001b[0;34m\u001b[0m\u001b[0m\n\u001b[1;32m      4\u001b[0m     \u001b[0mretries\u001b[0m\u001b[0;34m=\u001b[0m\u001b[0;36m3\u001b[0m\u001b[0;34m,\u001b[0m            \u001b[0;31m# Automatically retry, don't put it on the user!\u001b[0m\u001b[0;34m\u001b[0m\u001b[0;34m\u001b[0m\u001b[0m\n\u001b[1;32m      5\u001b[0m )\n",
      "\u001b[0;31mNameError\u001b[0m: name 'RequestsHTTPTransport' is not defined"
     ]
    }
   ],
   "source": [
    "CMR_GRAPHQL_URL = 'https://graphql.earthdata.nasa.gov/api'\n",
    "sample_transport=RequestsHTTPTransport(\n",
    "    url=CMR_GRAPHQL_URL,\n",
    "    retries=3,            # Automatically retry, don't put it on the user!\n",
    ")\n",
    "\n",
    "client = Client(\n",
    "    transport=sample_transport,\n",
    "    fetch_schema_from_transport=True,  # Get the schema as part of the client object\n",
    ")\n",
    "\n",
    "collection_schema = client.schema.get_type('Collection')\n",
    "\n",
    "# Show info about 5 random fields\n",
    "sample_fields = random.sample(list(collection_schema.fields.items()), 5)\n",
    "for fieldname, field in sample_fields:\n",
    "    print(f'* {fieldname}: {field.description}')"
   ]
  },
  {
   "cell_type": "markdown",
   "metadata": {},
   "source": [
    "### Select data sets and determine version numbers\n",
    "\n",
    "Data products:\n",
    "- Sea Surface Temperature: \n",
    "    * MODIS (Terra) SST: MODIS_T-JPL-L2P-v2014.0\n",
    "    * _SMAP SSS L3 expected in cloud Ops starting with 20.4.2._\n",
    "    * _GRACE-FO in cloud Ops now._\n",
    "    * Hooked up to L2SS now:\n",
    "        * C1940473819-POCLOUD (MODIS_A-JPL-L2P-v2019.0)\n",
    "        * C1940475563-POCLOUD (MODIS_T-JPL-L2P-v2019.0)\n",
    "        * C1940466008-POCLOUD (MERGED_TP_J1_OSTM_OST_CYCLES_V42)\n",
    "- Sea Ice Height\n",
    "    * ATL07\n",
    "\n",
    "Data sets are selected by data set IDs (e.g. ATL07). In the CMR API documentation, a data set ids is referred to as a \"short name\". These short names are located at the top of each NSIDC data set landing page in gray above the full title. We are using the Python Requests package to access the CMR. Data are then converted to JSON format; a language independant human-readable open-standard file format. More than one version can exist for a given data set:"
   ]
  },
  {
   "cell_type": "code",
   "execution_count": 4,
   "metadata": {},
   "outputs": [
    {
     "name": "stdout",
     "output_type": "stream",
     "text": [
      "{'collections': {'items': [{'conceptId': 'C1648596996-PODAAC',\n",
      "                            'datasetId': 'GHRSST Level 2P Global Skin Sea '\n",
      "                                         'Surface Temperature from the '\n",
      "                                         'Moderate Resolution Imaging '\n",
      "                                         'Spectroradiometer (MODIS) on the '\n",
      "                                         'NASA Terra satellite',\n",
      "                            'shortName': 'MODIS_T-JPL-L2P-v2014.0',\n",
      "                            'versionId': '2014.0'}]}}\n",
      "{'collections': {'items': [{'conceptId': 'C1631076780-NSIDC_ECS',\n",
      "                            'datasetId': 'ATLAS/ICESat-2 L3A Sea Ice Height '\n",
      "                                         'V002',\n",
      "                            'shortName': 'ATL07',\n",
      "                            'versionId': '002'},\n",
      "                           {'conceptId': 'C1706334166-NSIDC_ECS',\n",
      "                            'datasetId': 'ATLAS/ICESat-2 L3A Sea Ice Height '\n",
      "                                         'V003',\n",
      "                            'shortName': 'ATL07',\n",
      "                            'versionId': '003'}]}}\n"
     ]
    }
   ],
   "source": [
    "sst_query = gql('''\n",
    "query { \n",
    "  collections(shortName: \"MODIS_T-JPL-L2P-v2014.0\") {\n",
    "    items { \n",
    "      shortName\n",
    "      datasetId\n",
    "      conceptId\n",
    "      versionId\n",
    "    }\n",
    "  }\n",
    "}\n",
    "''')\n",
    "\n",
    "sst_response = client.execute(sst_query)\n",
    "pprint(sst_response)\n",
    "\n",
    "height_query = gql('''\n",
    "query { \n",
    "  collections(shortName: \"ATL07\") {\n",
    "    items { \n",
    "      shortName\n",
    "      datasetId\n",
    "      conceptId\n",
    "      versionId\n",
    "    }\n",
    "  }\n",
    "}\n",
    "''')\n",
    "\n",
    "height_response = client.execute(height_query)\n",
    "pprint(height_response)\n"
   ]
  },
  {
   "cell_type": "markdown",
   "metadata": {},
   "source": [
    "We will specify the most recent version for our remaining data set queries."
   ]
  },
  {
   "cell_type": "markdown",
   "metadata": {},
   "source": [
    "### Determine how many files exist over this time and area of interest, as well as the average size and total volume of those files\n"
   ]
  },
  {
   "cell_type": "code",
   "execution_count": 5,
   "metadata": {},
   "outputs": [
    {
     "name": "stdout",
     "output_type": "stream",
     "text": [
      "Found 2 files\n",
      "Average size: 230.85\n",
      "Total size: 461.70\n"
     ]
    }
   ],
   "source": [
    "# NOTE: GraphQL endpoint currently supports selecting granules by conceptId, not short_name, versionId.\n",
    "query = gql('''\n",
    "query {\n",
    "  granules(conceptId: \"C1706334166-NSIDC_ECS\"\n",
    "           boundingBox: \"-62.8,81.7,-56.4,83\"\n",
    "           temporal: \"2019-06-22T00:00:00Z,2019-06-22T23:59:59Z\"\n",
    "           limit: 100) {\n",
    "    count\n",
    "    items { granuleSize }\n",
    "           \n",
    "  }\n",
    "}\n",
    "''')\n",
    "response = client.execute(query)\n",
    "\n",
    "granule_sizes = [float(i['granuleSize']) for i in response['granules']['items']][:]\n",
    "\n",
    "print(f\"Found {response['granules']['count']} files\")\n",
    "print(f\"Average size: {mean(granule_sizes):.2f}\")\n",
    "print(f\"Total size: {sum(granule_sizes):.2f}\")"
   ]
  },
  {
   "cell_type": "markdown",
   "metadata": {},
   "source": [
    "### ***On your own: Discover data availability for MODIS Skin Sea Surface Temperature: NOTE THAT WE NEED TO INCLUDE CMR TOKEN IN POCLOUD SEARCH SINCE THESE ARE RESTRICTED***\n",
    "Replace the ATL07 `conceptID` value with the MODIS Skin Sea Surface Temperature `conceptID` value returned above. How do the number of files and the data volume compare to ATL07?"
   ]
  },
  {
   "cell_type": "markdown",
   "metadata": {},
   "source": [
    "Note that subsetting, reformatting, or reprojecting can alter the size of the granules if those services are applied to your request.\n",
    "\n"
   ]
  },
  {
   "cell_type": "markdown",
   "metadata": {},
   "source": [
    "## Data Access and Subsetting\n",
    "\n",
    "Depending on the NSIDC data set, we could utilize CMR UMM-S associations to demonstrate ESI subsetting service availability. Or for \"native\" data access, we could also access using Harmony (all CMR data can be accessed using Harmony no-proc service), or just through CMR data access URLs. \n",
    "\n",
    "The PO DAAC data can be subsetted via Harmony subsetting service. (Insert Harmony landing page when available!!)"
   ]
  },
  {
   "cell_type": "markdown",
   "metadata": {},
   "source": [
    "### Determine subsetting capabilties...\n"
   ]
  },
  {
   "cell_type": "markdown",
   "metadata": {},
   "source": [
    "Using UMM-S association for ATL07 to determine service availability:"
   ]
  },
  {
   "cell_type": "code",
   "execution_count": 7,
   "metadata": {},
   "outputs": [
    {
     "name": "stdout",
     "output_type": "stream",
     "text": [
      "{'items': [{'conceptId': 'C1706334166-NSIDC_ECS',\n",
      "            'datasetId': 'ATLAS/ICESat-2 L3A Sea Ice Height V003',\n",
      "            'services': {'items': [{'serviceOptions': {'subset': {}}},\n",
      "                                   {'serviceOptions': {'subset': {'spatialSubset': {'boundingBox': {'allowMultipleValues': False},\n",
      "                                                                                    'shapefile': [{'format': 'ESRI'},\n",
      "                                                                                                  {'format': 'KML'},\n",
      "                                                                                                  {'format': 'GeoJSON'}]},\n",
      "                                                                  'temporalSubset': {'allowMultipleValues': False},\n",
      "                                                                  'variableSubset': {'allowMultipleValues': True}},\n",
      "                                                       'supportedReformattings': [{'supportedInputFormat': 'HDF5',\n",
      "                                                                                   'supportedOutputFormats': ['ASCII',\n",
      "                                                                                                              'NETCDF-3',\n",
      "                                                                                                              'NETCDF-4',\n",
      "                                                                                                              'Shapefile']}]}},\n",
      "                                   {'serviceOptions': {'subset': {}}}]},\n",
      "            'shortName': 'ATL07',\n",
      "            'versionId': '003'}]}\n"
     ]
    }
   ],
   "source": [
    "height_query = gql('''\n",
    "query { \n",
    "  collections(conceptId: \"C1706334166-NSIDC_ECS\") {\n",
    "    items { \n",
    "      shortName\n",
    "      datasetId\n",
    "      conceptId\n",
    "      versionId\n",
    "      services {\n",
    "          items {\n",
    "          serviceOptions\n",
    "          }\n",
    "      }\n",
    "    }\n",
    "  }\n",
    "}\n",
    "''')\n",
    "\n",
    "height_response = client.execute(height_query)\n",
    "pprint(height_response['collections'])"
   ]
  },
  {
   "cell_type": "markdown",
   "metadata": {},
   "source": [
    "We can also do this for the MODIS SST data set (pending UMM-S and L2SS connection?)"
   ]
  },
  {
   "cell_type": "code",
   "execution_count": 8,
   "metadata": {},
   "outputs": [
    {
     "name": "stdout",
     "output_type": "stream",
     "text": [
      "{'items': [{'conceptId': 'C1648596996-PODAAC',\n",
      "            'datasetId': 'GHRSST Level 2P Global Skin Sea Surface Temperature '\n",
      "                         'from the Moderate Resolution Imaging '\n",
      "                         'Spectroradiometer (MODIS) on the NASA Terra '\n",
      "                         'satellite',\n",
      "            'services': {'items': None},\n",
      "            'shortName': 'MODIS_T-JPL-L2P-v2014.0',\n",
      "            'versionId': '2014.0'}]}\n"
     ]
    }
   ],
   "source": [
    "sst_query = gql('''\n",
    "query { \n",
    "  collections(conceptId: \"C1648596996-PODAAC\") {\n",
    "    items { \n",
    "      shortName\n",
    "      datasetId\n",
    "      conceptId\n",
    "      versionId\n",
    "      services {\n",
    "          items {\n",
    "          serviceOptions\n",
    "          }\n",
    "      }\n",
    "    }\n",
    "  }\n",
    "}\n",
    "''')\n",
    "\n",
    "sst_response = client.execute(sst_query)\n",
    "pprint(sst_response['collections'])"
   ]
  },
  {
   "cell_type": "markdown",
   "metadata": {},
   "source": [
    "For our purposes, even though there are several other options for spatial area input like shapefile (see other tutorial for this!), we'll use a simple bounding box to crop our data to that area. "
   ]
  },
  {
   "cell_type": "markdown",
   "metadata": {},
   "source": [
    "### Data Access"
   ]
  },
  {
   "cell_type": "markdown",
   "metadata": {},
   "source": [
    "Prior to migrating to AWS, ATL07 is accessed using an NSIDC-specific API:"
   ]
  },
  {
   "cell_type": "code",
   "execution_count": 9,
   "metadata": {},
   "outputs": [
    {
     "name": "stdout",
     "output_type": "stream",
     "text": [
      "https://n5eil02u.ecs.nsidc.org/egi/request?short_name=ATL07&version=003&temporal=2019-06-22T00:00:00Z,2019-06-22T23:59:59Z&bounding_box=-62.8,81.7,-56.4,83&bbox=-62.8,81.7,-56.4,83&page_size=10&request_mode=async&email=amy.steiker@nsidc.org\n"
     ]
    }
   ],
   "source": [
    "#Set NSIDC data access base URL\n",
    "base_url = 'https://n5eil02u.ecs.nsidc.org/egi/request'\n",
    "\n",
    "# bounding box search and subset:\n",
    "param_dict = {'short_name': 'ATL07', \n",
    "              'version': '003', \n",
    "              'temporal': temporal, \n",
    "              'bounding_box': bounding_box, \n",
    "              'bbox': bounding_box, \n",
    "              'page_size': '10', \n",
    "              'request_mode': 'async',\n",
    "              'email': 'amy.steiker@nsidc.org', }\n",
    "\n",
    "#Remove blank key-value-pairs\n",
    "param_dict = {k: v for k, v in param_dict.items() if v != ''}\n",
    "\n",
    "#Convert to string\n",
    "param_string = '&'.join(\"{!s}={!r}\".format(k,v) for (k,v) in param_dict.items())\n",
    "param_string = param_string.replace(\"'\",\"\")\n",
    "\n",
    "API_request = api_request = f'{base_url}?{param_string}'\n",
    "print(API_request)"
   ]
  },
  {
   "cell_type": "markdown",
   "metadata": {},
   "source": [
    "Earthdata Search session (from https://wiki.earthdata.nasa.gov/display/EL/How+To+Access+Data+With+Python):"
   ]
  },
  {
   "cell_type": "code",
   "execution_count": 10,
   "metadata": {},
   "outputs": [
    {
     "name": "stdin",
     "output_type": "stream",
     "text": [
      "Earthdata Login password:  ·········\n"
     ]
    }
   ],
   "source": [
    "username = 'amy.steiker' # Enter Earthdata Login user name'\n",
    "password = getpass.getpass('Earthdata Login password: ') # Enter Earthdata Login password"
   ]
  },
  {
   "cell_type": "code",
   "execution_count": 12,
   "metadata": {},
   "outputs": [
    {
     "name": "stdout",
     "output_type": "stream",
     "text": [
      "Order request URL:  https://n5eil02u.ecs.nsidc.org/egi/request?short_name=ATL07&version=003&temporal=2019-06-22T00:00:00Z,2019-06-22T23:59:59Z&bounding_box=-62.8,81.7,-56.4,83&bbox=-62.8,81.7,-56.4,83&page_size=10&request_mode=async&email=amy.steiker@nsidc.org\n",
      "order ID:  5000000920813\n",
      "status URL:  https://n5eil02u.ecs.nsidc.org/egi/request/5000000920813\n",
      "Initial request status is  complete\n",
      "Zip download URL:  https://n5eil02u.ecs.nsidc.org/esir/5000000920813.zip\n",
      "Beginning download of zipped output...\n",
      "Data request is complete.\n"
     ]
    }
   ],
   "source": [
    "path = str(os.getcwd() + '/Outputs') # Create an output folder if the folder does not already exist.\n",
    "if not os.path.exists(path):\n",
    "    os.mkdir(path)\n",
    "        \n",
    "with requests.Session() as session:\n",
    "    session.auth = (username, password)\n",
    "    r = session.get(API_request)\n",
    "    if r.ok:\n",
    "        print('Order request URL: ', r.url)\n",
    "        esir_root = ET.fromstring(r.content)\n",
    "        orderlist = []   # Look up order ID\n",
    "        for order in esir_root.findall(\"./order/\"):\n",
    "            orderlist.append(order.text)\n",
    "        orderID = orderlist[0]\n",
    "        print('order ID: ', orderID)\n",
    "        statusURL = base_url + '/' + orderID # Create status URL\n",
    "        print('status URL: ', statusURL)\n",
    "        request_response = session.get(statusURL) # Find order status  \n",
    "        if request_response.ok:        \n",
    "            request_root = ET.fromstring(request_response.content)\n",
    "            statuslist = []\n",
    "            for status in request_root.findall(\"./requestStatus/\"):\n",
    "                statuslist.append(status.text)\n",
    "            status = statuslist[0]\n",
    "            print('Initial request status is ', status)\n",
    "        while status == 'pending' or status == 'processing': #Continue loop while request is still processing\n",
    "            print('Status is not complete. Trying again.')\n",
    "            time.sleep(15)\n",
    "            loop_response = session.get(statusURL)\n",
    "            loop_response.raise_for_status() # Raise bad request: Loop will stop for bad response code.\n",
    "            loop_root = ET.fromstring(loop_response.content)\n",
    "            statuslist = [] #find status\n",
    "            for status in loop_root.findall(\"./requestStatus/\"):\n",
    "                statuslist.append(status.text)\n",
    "            status = statuslist[0]\n",
    "            print('Retry request status is: ', status)\n",
    "            if status == 'pending' or status == 'processing':\n",
    "                continue\n",
    "        if status == 'complete_with_errors' or status == 'failed': # Provide complete_with_errors error message:\n",
    "            messagelist = []\n",
    "            for message in loop_root.findall(\"./processInfo/\"):\n",
    "                messagelist.append(message.text)\n",
    "            print('error messages:')\n",
    "            pprint(messagelist)\n",
    "        if status == 'complete' or status == 'complete_with_errors':# Download zipped order if status is complete or complete_with_errors\n",
    "            downloadURL = 'https://n5eil02u.ecs.nsidc.org/esir/' + orderID + '.zip'\n",
    "            print('Zip download URL: ', downloadURL)\n",
    "            print('Beginning download of zipped output...')\n",
    "            zip_response = session.get(downloadURL)\n",
    "            zip_response.raise_for_status() # Raise bad request: Loop will stop for bad response code.\n",
    "            with zipfile.ZipFile(io.BytesIO(zip_response.content)) as z:\n",
    "                z.extractall(path)\n",
    "            print('Data request is complete.')\n",
    "        else: print('Request failed.')"
   ]
  },
  {
   "cell_type": "code",
   "execution_count": 45,
   "metadata": {},
   "outputs": [],
   "source": [
    "# Clean up Outputs folder by removing individual granule folders \n",
    "\n",
    "for root, dirs, files in os.walk(path, topdown=False):\n",
    "    for file in files:\n",
    "        try:\n",
    "            shutil.move(os.path.join(root, file), path)\n",
    "        except OSError:\n",
    "            pass\n",
    "    for name in dirs:\n",
    "        os.rmdir(os.path.join(root, name))"
   ]
  },
  {
   "cell_type": "markdown",
   "metadata": {},
   "source": [
    "MODIS SST Data Access through Harmony:"
   ]
  },
  {
   "cell_type": "code",
   "execution_count": 14,
   "metadata": {},
   "outputs": [
    {
     "name": "stdout",
     "output_type": "stream",
     "text": [
      "Request URL https://harmony.earthdata.nasa.gov/C1940475563-POCLOUD/ogc-api-coverages/1.0.0/collections/all/coverage/rangeset?&subset=lat(81.7:83)&subset=lon(-62.8:-56.4)&subset=time(\"2019-06-22T00:00:00Z\":\"2019-06-22T23:59:59Z\")\n",
      "{'createdAt': '2020-11-10T18:50:16.017Z',\n",
      " 'jobID': '2a57ba06-7593-46cb-86aa-5df57dd77d3b',\n",
      " 'links': [{'href': 'https://harmony.earthdata.nasa.gov/jobs/2a57ba06-7593-46cb-86aa-5df57dd77d3b',\n",
      "            'rel': 'self',\n",
      "            'title': 'Job Status',\n",
      "            'type': 'application/json'}],\n",
      " 'message': 'The job is being processed',\n",
      " 'progress': 0,\n",
      " 'request': 'https://harmony.earthdata.nasa.gov/C1940475563-POCLOUD/ogc-api-coverages/1.0.0/collections/all/coverage/rangeset?subset=lat(81.7%3A83)&subset=lon(-62.8%3A-56.4)&subset=time(%222019-06-22T00%3A00%3A00Z%22%3A%222019-06-22T23%3A59%3A59Z%22)',\n",
      " 'status': 'running',\n",
      " 'updatedAt': '2020-11-10T18:50:16.017Z',\n",
      " 'username': 'amy.steiker'}\n",
      "Job URL https://harmony.earthdata.nasa.gov/jobs/2a57ba06-7593-46cb-86aa-5df57dd77d3b\n",
      "Job response:\n",
      "\n",
      "{'createdAt': '2020-11-10T18:50:16.017Z',\n",
      " 'jobID': '2a57ba06-7593-46cb-86aa-5df57dd77d3b',\n",
      " 'links': [{'href': 'https://harmony.earthdata.nasa.gov/jobs/2a57ba06-7593-46cb-86aa-5df57dd77d3b',\n",
      "            'rel': 'self',\n",
      "            'title': 'Job Status',\n",
      "            'type': 'application/json'}],\n",
      " 'message': 'The job is being processed',\n",
      " 'progress': 0,\n",
      " 'request': 'https://harmony.earthdata.nasa.gov/C1940475563-POCLOUD/ogc-api-coverages/1.0.0/collections/all/coverage/rangeset?subset=lat(81.7%3A83)&subset=lon(-62.8%3A-56.4)&subset=time(%222019-06-22T00%3A00%3A00Z%22%3A%222019-06-22T23%3A59%3A59Z%22)',\n",
      " 'status': 'running',\n",
      " 'updatedAt': '2020-11-10T18:50:16.017Z',\n",
      " 'username': 'amy.steiker'}\n",
      "Job status is running. Progress is  0 %. Trying again.\n",
      "Job status is running. Progress is  9 %. Trying again.\n",
      "Job status is running. Progress is  27 %. Trying again.\n",
      "Job status is running. Progress is  45 %. Trying again.\n",
      "Job status is running. Progress is  54 %. Trying again.\n",
      "Job status is running. Progress is  72 %. Trying again.\n",
      "Job status is running. Progress is  90 %. Trying again.\n",
      "Job progress is 100%. Output links printed below:\n",
      "https://harmony.earthdata.nasa.gov/service-results/harmony-prod-staging/public/podaac/l2-subsetter/f57ecf19-c880-4767-b2f8-10d81dfd66c8/20190622061001-JPL-L2P_GHRSST-SSTskin-MODIS_T-D-v02.0-fv01.0_subsetted.nc\n",
      "https://harmony.earthdata.nasa.gov/service-results/harmony-prod-staging/public/podaac/l2-subsetter/f57ecf19-c880-4767-b2f8-10d81dfd66c8/20190622093001-JPL-L2P_GHRSST-SSTskin-MODIS_T-D-v02.0-fv01.0_subsetted.nc\n",
      "https://harmony.earthdata.nasa.gov/service-results/harmony-prod-staging/public/podaac/l2-subsetter/f57ecf19-c880-4767-b2f8-10d81dfd66c8/20190622111001-JPL-L2P_GHRSST-SSTskin-MODIS_T-D-v02.0-fv01.0_subsetted.nc\n",
      "https://harmony.earthdata.nasa.gov/service-results/harmony-prod-staging/public/podaac/l2-subsetter/f57ecf19-c880-4767-b2f8-10d81dfd66c8/20190622125000-JPL-L2P_GHRSST-SSTskin-MODIS_T-D-v02.0-fv01.0_subsetted.nc\n",
      "https://harmony.earthdata.nasa.gov/service-results/harmony-prod-staging/public/podaac/l2-subsetter/f57ecf19-c880-4767-b2f8-10d81dfd66c8/20190622142500-JPL-L2P_GHRSST-SSTskin-MODIS_T-D-v02.0-fv01.0_subsetted.nc\n",
      "https://harmony.earthdata.nasa.gov/service-results/harmony-prod-staging/public/podaac/l2-subsetter/f57ecf19-c880-4767-b2f8-10d81dfd66c8/20190622143000-JPL-L2P_GHRSST-SSTskin-MODIS_T-D-v02.0-fv01.0_subsetted.nc\n",
      "https://harmony.earthdata.nasa.gov/service-results/harmony-prod-staging/public/podaac/l2-subsetter/f57ecf19-c880-4767-b2f8-10d81dfd66c8/20190622160501-JPL-L2P_GHRSST-SSTskin-MODIS_T-D-v02.0-fv01.0_subsetted.nc\n",
      "https://harmony.earthdata.nasa.gov/service-results/harmony-prod-staging/public/podaac/l2-subsetter/f57ecf19-c880-4767-b2f8-10d81dfd66c8/20190622161000-JPL-L2P_GHRSST-SSTskin-MODIS_T-D-v02.0-fv01.0_subsetted.nc\n",
      "https://harmony.earthdata.nasa.gov/service-results/harmony-prod-staging/public/podaac/l2-subsetter/f57ecf19-c880-4767-b2f8-10d81dfd66c8/20190622174501-JPL-L2P_GHRSST-SSTskin-MODIS_T-D-v02.0-fv01.0_subsetted.nc\n",
      "https://harmony.earthdata.nasa.gov/service-results/harmony-prod-staging/public/podaac/l2-subsetter/f57ecf19-c880-4767-b2f8-10d81dfd66c8/20190622192501-JPL-L2P_GHRSST-SSTskin-MODIS_T-D-v02.0-fv01.0_subsetted.nc\n",
      "https://harmony.earthdata.nasa.gov/service-results/harmony-prod-staging/public/podaac/l2-subsetter/f57ecf19-c880-4767-b2f8-10d81dfd66c8/20190622210001-JPL-L2P_GHRSST-SSTskin-MODIS_T-D-v02.0-fv01.0_subsetted.nc\n"
     ]
    }
   ],
   "source": [
    "harmony_root = 'https://harmony.earthdata.nasa.gov'\n",
    "\n",
    "bboxSubsetConfig = {\n",
    "    'collection_id': 'C1940475563-POCLOUD',\n",
    "    'ogc-api-coverages_version': '1.0.0',\n",
    "    'variable': 'all',\n",
    "    'lat': '(81.7:83)',\n",
    "    'lon': '(-62.8:-56.4)',\n",
    "    'time': '(\"2019-06-22T00:00:00Z\":\"2019-06-22T23:59:59Z\")'\n",
    "}\n",
    "bbox_url = harmony_root+'/{collection_id}/ogc-api-coverages/{ogc-api-coverages_version}/collections/{variable}/coverage/rangeset?&subset=lat{lat}&subset=lon{lon}&subset=time{time}'.format(**bboxSubsetConfig)\n",
    "print('Request URL', bbox_url)\n",
    "r = session.get(bbox_url)\n",
    "bbox_response = r.content\n",
    "async_json = json.loads(bbox_response)\n",
    "pprint(async_json)\n",
    "\n",
    "\n",
    "jobConfig = {\n",
    "    'jobID': async_json['jobID']\n",
    "}\n",
    "\n",
    "job_url = harmony_root+'/jobs/{jobID}'.format(**jobConfig)\n",
    "print('Job URL', job_url)\n",
    "\n",
    "job_response = session.get(job_url)\n",
    "job_results = job_response.content\n",
    "job_json = json.loads(job_results)\n",
    "\n",
    "print('Job response:')\n",
    "print()\n",
    "pprint(job_json)\n",
    "\n",
    "\n",
    "#Continue loop while request is still processing\n",
    "while job_json['status'] == 'running' and job_json['progress'] < 100: \n",
    "    print('Job status is running. Progress is ', job_json['progress'], '%. Trying again.')\n",
    "    time.sleep(10)\n",
    "    loop_response = session.get(job_url)\n",
    "    loop_results = loop_response.content\n",
    "    job_json = json.loads(loop_results)\n",
    "    if job_json['status'] == 'running':\n",
    "        continue\n",
    "\n",
    "if job_json['progress'] == 100:\n",
    "    print('Job progress is 100%. Output links printed below:')\n",
    "    links = [link for link in job_json['links'] if link.get('rel', 'data') == 'data'] #list of data links from response\n",
    "    for i in range(len(links)):\n",
    "        link_dict = links[i] \n",
    "        print(link_dict['href'])\n",
    "        filepath = link_dict['href'].split('/')[-1]\n",
    "        file_ = open(filepath, 'wb')\n",
    "        response = session.get(link_dict['href'])\n",
    "        file_.write(response.content)\n",
    "        file_.close()"
   ]
  },
  {
   "cell_type": "markdown",
   "metadata": {},
   "source": [
    "## Data Comparison\n",
    "\n",
    "- Any reprojection or resampling needed? \n",
    "- Simple plotting of data \n",
    "\n",
    "File 20190622192501-JPL-L2P_GHRSST-SSTskin-MODIS_T-D-v02.0-fv01.0_subsetted.nc has data - some granules do not contain any data."
   ]
  },
  {
   "cell_type": "code",
   "execution_count": 16,
   "metadata": {},
   "outputs": [
    {
     "data": {
      "text/plain": [
       "['lat',\n",
       " 'lon',\n",
       " 'sea_surface_temperature',\n",
       " 'sst_dtime',\n",
       " 'quality_level',\n",
       " 'sses_bias',\n",
       " 'sses_standard_deviation',\n",
       " 'l2p_flags',\n",
       " 'chlorophyll_a',\n",
       " 'K_490',\n",
       " 'wind_speed',\n",
       " 'dt_analysis',\n",
       " 'time']"
      ]
     },
     "execution_count": 16,
     "metadata": {},
     "output_type": "execute_result"
    }
   ],
   "source": [
    "filepath = './20190622192501-JPL-L2P_GHRSST-SSTskin-MODIS_T-D-v02.0-fv01.0_subsetted.nc' # Define local filepath \n",
    "\n",
    "sst = xr.open_dataset(filepath)\n",
    "list(sst.variables)"
   ]
  },
  {
   "cell_type": "code",
   "execution_count": 46,
   "metadata": {},
   "outputs": [],
   "source": [
    "atl_filepath = './Outputs/processed_ATL07-01_20190622200154_13070301_003_02.h5' # Define local filepath \n",
    "\n",
    "VARIABLES = {\n",
    "    'ATL07': [\n",
    "        '/gt1l/sea_ice_segments/delta_time',\n",
    "        '/gt1l/sea_ice_segments/latitude',\n",
    "        '/gt1l/sea_ice_segments/longitude',\n",
    "        '/gt1l/sea_ice_segments/heights/height_segment_confidence',\n",
    "        '/gt1l/sea_ice_segments/heights/height_segment_height',\n",
    "        '/gt1l/sea_ice_segments/heights/height_segment_quality',\n",
    "        '/gt1l/sea_ice_segments/heights/height_segment_surface_error_est',\n",
    "        '/gt1l/sea_ice_segments/heights/height_segment_length_seg',\n",
    "        '/gt2l/sea_ice_segments/delta_time',\n",
    "        '/gt2l/sea_ice_segments/latitude',\n",
    "        '/gt2l/sea_ice_segments/longitude',\n",
    "        '/gt2l/sea_ice_segments/heights/height_segment_confidence',\n",
    "        '/gt2l/sea_ice_segments/heights/height_segment_height',\n",
    "        '/gt2l/sea_ice_segments/heights/height_segment_quality',\n",
    "        '/gt2l/sea_ice_segments/heights/height_segment_surface_error_est',\n",
    "        '/gt2l/sea_ice_segments/heights/height_segment_length_seg',\n",
    "        '/gt3l/sea_ice_segments/delta_time',\n",
    "        '/gt3l/sea_ice_segments/latitude',\n",
    "        '/gt3l/sea_ice_segments/longitude',\n",
    "        '/gt3l/sea_ice_segments/heights/height_segment_confidence',\n",
    "        '/gt3l/sea_ice_segments/heights/height_segment_height',\n",
    "        '/gt3l/sea_ice_segments/heights/height_segment_quality',\n",
    "        '/gt3l/sea_ice_segments/heights/height_segment_surface_error_est',\n",
    "        '/gt3l/sea_ice_segments/heights/height_segment_length_seg']\n",
    "}"
   ]
  },
  {
   "cell_type": "code",
   "execution_count": 47,
   "metadata": {},
   "outputs": [],
   "source": [
    "def load_icesat2_as_dataframe(filepath, VARIABLES):\n",
    "    '''\n",
    "    Load points from an ICESat-2 granule 'gt<beam>' groups as DataFrame of points. Uses VARIABLES mapping\n",
    "    to select subset of '/gt<beam>/...' variables  (Assumes these variables share dimensions)\n",
    "    Arguments:\n",
    "        filepath to ATL0# granule\n",
    "    '''\n",
    "    \n",
    "    ds = h5py.File(filepath, 'r')\n",
    "\n",
    "    # Get dataproduct name\n",
    "    dataproduct = ds.attrs['identifier_product_type'].decode()\n",
    "    # Convert variable paths to 'Path' objects for easy manipulation\n",
    "    variables = [Path(v) for v in VARIABLES[dataproduct]]\n",
    "    # Get set of beams to extract individially as dataframes combining in the end\n",
    "    beams = {list(v.parents)[-2].name for v in variables}\n",
    "    \n",
    "    dfs = []\n",
    "    for beam in beams:\n",
    "        data_dict = {}\n",
    "        beam_variables = [v for v in variables if beam in str(v)]\n",
    "        for variable in beam_variables:\n",
    "            # Use variable 'name' as column name. Beam will be specified in 'beam' column\n",
    "            column = variable.name\n",
    "            variable = str(variable)\n",
    "            try:\n",
    "                values = ds[variable][:]\n",
    "                # Convert invalid data to np.nan (only for float columns)\n",
    "                if 'float' in str(values.dtype):\n",
    "                    if 'valid_min' in ds[variable].attrs:\n",
    "                        values[values < ds[variable].attrs['valid_min']] = np.nan\n",
    "                    if 'valid_max' in ds[variable].attrs:\n",
    "                        values[values > ds[variable].attrs['valid_max']] = np.nan\n",
    "                    if '_FillValue' in ds[variable].attrs:\n",
    "                        values[values == ds[variable].attrs['_FillValue']] = np.nan\n",
    "                    \n",
    "                data_dict[column] = values\n",
    "            except KeyError:\n",
    "                print(f'Variable {variable} not found in {filepath}. Likely an empty granule.')\n",
    "                raise\n",
    "                \n",
    "        df = pd.DataFrame.from_dict(data_dict)\n",
    "        df['beam'] = beam\n",
    "        dfs.append(df)\n",
    "        \n",
    "    df = pd.concat(dfs, sort=True)\n",
    "    # Add filename column for book-keeping and reset index\n",
    "    df['filename'] = Path(filepath).name\n",
    "    df = df.reset_index(drop=True)\n",
    "    \n",
    "    return df"
   ]
  },
  {
   "cell_type": "code",
   "execution_count": 50,
   "metadata": {},
   "outputs": [
    {
     "data": {
      "text/html": [
       "<div>\n",
       "<style scoped>\n",
       "    .dataframe tbody tr th:only-of-type {\n",
       "        vertical-align: middle;\n",
       "    }\n",
       "\n",
       "    .dataframe tbody tr th {\n",
       "        vertical-align: top;\n",
       "    }\n",
       "\n",
       "    .dataframe thead th {\n",
       "        text-align: right;\n",
       "    }\n",
       "</style>\n",
       "<table border=\"1\" class=\"dataframe\">\n",
       "  <thead>\n",
       "    <tr style=\"text-align: right;\">\n",
       "      <th></th>\n",
       "      <th>beam</th>\n",
       "      <th>delta_time</th>\n",
       "      <th>height_segment_confidence</th>\n",
       "      <th>height_segment_height</th>\n",
       "      <th>height_segment_length_seg</th>\n",
       "      <th>height_segment_quality</th>\n",
       "      <th>height_segment_surface_error_est</th>\n",
       "      <th>latitude</th>\n",
       "      <th>longitude</th>\n",
       "      <th>filename</th>\n",
       "    </tr>\n",
       "  </thead>\n",
       "  <tbody>\n",
       "    <tr>\n",
       "      <th>42559</th>\n",
       "      <td>gt2l</td>\n",
       "      <td>4.647045e+07</td>\n",
       "      <td>0.007207</td>\n",
       "      <td>0.694766</td>\n",
       "      <td>18.810072</td>\n",
       "      <td>0</td>\n",
       "      <td>0.031730</td>\n",
       "      <td>82.185342</td>\n",
       "      <td>-58.690190</td>\n",
       "      <td>processed_ATL07-01_20190622200154_13070301_003...</td>\n",
       "    </tr>\n",
       "    <tr>\n",
       "      <th>42560</th>\n",
       "      <td>gt2l</td>\n",
       "      <td>4.647045e+07</td>\n",
       "      <td>0.010834</td>\n",
       "      <td>0.305529</td>\n",
       "      <td>15.294293</td>\n",
       "      <td>1</td>\n",
       "      <td>0.025006</td>\n",
       "      <td>82.185289</td>\n",
       "      <td>-58.690296</td>\n",
       "      <td>processed_ATL07-01_20190622200154_13070301_003...</td>\n",
       "    </tr>\n",
       "    <tr>\n",
       "      <th>42561</th>\n",
       "      <td>gt2l</td>\n",
       "      <td>4.647045e+07</td>\n",
       "      <td>0.030154</td>\n",
       "      <td>0.217341</td>\n",
       "      <td>14.241796</td>\n",
       "      <td>1</td>\n",
       "      <td>0.012931</td>\n",
       "      <td>82.185253</td>\n",
       "      <td>-58.690368</td>\n",
       "      <td>processed_ATL07-01_20190622200154_13070301_003...</td>\n",
       "    </tr>\n",
       "    <tr>\n",
       "      <th>42562</th>\n",
       "      <td>gt2l</td>\n",
       "      <td>4.647045e+07</td>\n",
       "      <td>0.023051</td>\n",
       "      <td>0.240773</td>\n",
       "      <td>14.320757</td>\n",
       "      <td>1</td>\n",
       "      <td>0.013242</td>\n",
       "      <td>82.185211</td>\n",
       "      <td>-58.690452</td>\n",
       "      <td>processed_ATL07-01_20190622200154_13070301_003...</td>\n",
       "    </tr>\n",
       "    <tr>\n",
       "      <th>42563</th>\n",
       "      <td>gt2l</td>\n",
       "      <td>4.647045e+07</td>\n",
       "      <td>0.021479</td>\n",
       "      <td>0.296563</td>\n",
       "      <td>14.306703</td>\n",
       "      <td>1</td>\n",
       "      <td>0.016004</td>\n",
       "      <td>82.185168</td>\n",
       "      <td>-58.690539</td>\n",
       "      <td>processed_ATL07-01_20190622200154_13070301_003...</td>\n",
       "    </tr>\n",
       "  </tbody>\n",
       "</table>\n",
       "</div>"
      ],
      "text/plain": [
       "       beam    delta_time  height_segment_confidence  height_segment_height  \\\n",
       "42559  gt2l  4.647045e+07                   0.007207               0.694766   \n",
       "42560  gt2l  4.647045e+07                   0.010834               0.305529   \n",
       "42561  gt2l  4.647045e+07                   0.030154               0.217341   \n",
       "42562  gt2l  4.647045e+07                   0.023051               0.240773   \n",
       "42563  gt2l  4.647045e+07                   0.021479               0.296563   \n",
       "\n",
       "       height_segment_length_seg  height_segment_quality  \\\n",
       "42559                  18.810072                       0   \n",
       "42560                  15.294293                       1   \n",
       "42561                  14.241796                       1   \n",
       "42562                  14.320757                       1   \n",
       "42563                  14.306703                       1   \n",
       "\n",
       "       height_segment_surface_error_est   latitude  longitude  \\\n",
       "42559                          0.031730  82.185342 -58.690190   \n",
       "42560                          0.025006  82.185289 -58.690296   \n",
       "42561                          0.012931  82.185253 -58.690368   \n",
       "42562                          0.013242  82.185211 -58.690452   \n",
       "42563                          0.016004  82.185168 -58.690539   \n",
       "\n",
       "                                                filename  \n",
       "42559  processed_ATL07-01_20190622200154_13070301_003...  \n",
       "42560  processed_ATL07-01_20190622200154_13070301_003...  \n",
       "42561  processed_ATL07-01_20190622200154_13070301_003...  \n",
       "42562  processed_ATL07-01_20190622200154_13070301_003...  \n",
       "42563  processed_ATL07-01_20190622200154_13070301_003...  "
      ]
     },
     "execution_count": 50,
     "metadata": {},
     "output_type": "execute_result"
    }
   ],
   "source": [
    "atl07 = load_icesat2_as_dataframe(atl_filepath, VARIABLES)\n",
    "atl07.tail()"
   ]
  },
  {
   "cell_type": "code",
   "execution_count": 59,
   "metadata": {},
   "outputs": [
    {
     "data": {
      "image/png": "[encoded data removed]",
      "text/plain": [
       "<Figure size 720x360 with 2 Axes>"
      ]
     },
     "metadata": {
      "needs_background": "light"
     },
     "output_type": "display_data"
    }
   ],
   "source": [
    "plt.subplots(figsize=(10,5)) # set size\n",
    "#plt.pcolormesh(sst['lon'], sst['lat'], sst['sea_surface_temperature'], cmap='viridis')\n",
    "plt.scatter(atl07.longitude, atl07.latitude,\n",
    "          c=atl07.height_segment_height, vmax=1.5,\n",
    "          cmap='Reds', alpha=0.6, s=1)    \n",
    "plt.colorbar(label='ATL07 Height (m)')\n",
    "plt.show()\n"
   ]
  },
  {
   "cell_type": "code",
   "execution_count": 62,
   "metadata": {},
   "outputs": [
    {
     "data": {
      "image/png": "[encoded data removed]",
      "text/plain": [
       "<Figure size 720x360 with 2 Axes>"
      ]
     },
     "metadata": {
      "needs_background": "light"
     },
     "output_type": "display_data"
    }
   ],
   "source": [
    "plt.subplots(figsize=(10,5)) # set size\n",
    "sst['sea_surface_temperature'].plot(cmap='viridis');"
   ]
  },
  {
   "cell_type": "markdown",
   "metadata": {},
   "source": [
    "# Move to different notebook: Point search testing...\n",
    "\n",
    "Argo float data from [this search](https://nrlgodae1.nrlmry.navy.mil/cgi-bin/argo_select.pl?startyear=2020&startmonth=11&startday=01&endyear=2020&endmonth=11&endday=03&Nlat=75&Wlon=-80&Elon=-45&Slat=50&dac=ALL&floatid=ALL&gentype=plt&.submit=++Go++&.cgifields=endyear&.cgifields=dac&.cgifields=delayed&.cgifields=startyear&.cgifields=endmonth&.cgifields=endday&.cgifields=startday&.cgifields=startmonth&.cgifields=gentype)\n",
    "\n",
    "Pull in file with lat lon point locations:"
   ]
  },
  {
   "cell_type": "code",
   "execution_count": null,
   "metadata": {},
   "outputs": [],
   "source": [
    "df = pd.read_csv(\"argo-float-data.csv\")\n",
    "gdf = geopandas.GeoDataFrame(df, geometry = geopandas.points_from_xy(df.Longitude, df.Latitude))\n",
    "gdf"
   ]
  },
  {
   "cell_type": "code",
   "execution_count": null,
   "metadata": {},
   "outputs": [],
   "source": [
    "gdf.to_file('argo-data.geojson', driver='GeoJSON')"
   ]
  },
  {
   "cell_type": "markdown",
   "metadata": {},
   "source": [
    "curl -XPOST \"https://cmr.earthdata.nasa.gov/search/granules\" -F \"shapefile=@argo-data.geojson;type=application/geo+json\" -F \"collection_concept_id=C1706334166-NSIDC_ECS\" -F \"page_size=100\""
   ]
  },
  {
   "cell_type": "code",
   "execution_count": null,
   "metadata": {},
   "outputs": [],
   "source": [
    "search_url = \"https://cmr.earthdata.nasa.gov/search/granules\"\n",
    "files = {\"shapefile\": (\"argo-data.geojson\", open('argo-data.geojson', 'r'), \"application/geo+json\")}\n",
    "parameters = {\n",
    "    \"scroll\": \"true\",\n",
    "    \"page_size\": 100,\n",
    "    # set any search criteria here\n",
    "    \"collection_concept_id\": \"C1706334166-NSIDC_ECS\",\n",
    "}\n",
    "output_format = \"json\"\n",
    "response = requests.post(f\"{search_url}.{output_format}\", data=parameters, files=files)\n",
    "\n",
    "print(\"status:\", response.status_code)\n",
    "print(\"hits:\", response.headers[\"CMR-Hits\"])\n",
    "pprint(response.json()[\"feed\"][\"entry\"][0])\n"
   ]
  },
  {
   "cell_type": "code",
   "execution_count": null,
   "metadata": {},
   "outputs": [],
   "source": []
  }
 ],
 "metadata": {
  "kernelspec": {
   "display_name": "Python 3",
   "language": "python",
   "name": "python3"
  },
  "language_info": {
   "codemirror_mode": {
    "name": "ipython",
    "version": 3
   },
   "file_extension": ".py",
   "mimetype": "text/x-python",
   "name": "python",
   "nbconvert_exporter": "python",
   "pygments_lexer": "ipython3",
   "version": "3.7.8"
  },
  "toc": {
   "base_numbering": 1,
   "nav_menu": {},
   "number_sections": true,
   "sideBar": true,
   "skip_h1_title": false,
   "title_cell": "Table of Contents",
   "title_sidebar": "Contents",
   "toc_cell": false,
   "toc_position": {},
   "toc_section_display": true,
   "toc_window_display": false
  }
 },
 "nbformat": 4,
 "nbformat_minor": 4
}
