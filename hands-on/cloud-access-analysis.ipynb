{
 "cells": [
  {
   "cell_type": "markdown",
   "metadata": {},
   "source": [
    "## __Ocean salinity investigation:__\n",
    "\n",
    "### __Hands-on tutorial of AWS in-region access of NASA Earthdata products__\n",
    "\n",
    "This notebook provides a basic workflow to interact with data \"in-place\" from the NASA Earthdata Cloud, by accessing AWS s3 locations provided by NASA Harmony outputs without the need to download data. *More info on benefits and differences between this workflow and \"traditional\" download workflows...*. \n",
    "\n",
    "Useful helpers for making the calls found in this notebook can be found under the [docs/notebook-helpers](./notebook-helpers) folder.\n",
    "\n",
    "#### __Prerequisites__\n",
    "\n",
    "__This notebook must be running within an EC2 instance running in us-west-2__\n",
    "\n",
    "For the live AGU Workshop, our BinderHub instance already takes care of steps 1 and 2, but these instructions are provided so that you can set this up in your own AWS account outside of the workshop.\n",
    "\n",
    "1. Follow tutorials 01 through 03 of the [NASA Earthdata Cloud Primer](https://earthdata.nasa.gov/learn/user-resources/webinars-and-tutorials/cloud-primer) to set up an EC2 instance within us-west-2. Ensure you are also following step 3 in the [\"Jupyter Notebooks on AWS EC2 in 12 (mostly easy) steps\"](https://medium.com/@alexjsanchez/python-3-notebooks-on-aws-ec2-in-15-mostly-easy-steps-2ec5e662c6c6) article to set the correct security group settings needed to connect your local port to your EC2’s notebook port thru SSH.\n",
    "\n",
    "2. Follow the remaining instructions in the Medium article above, which includes installation of Anaconda3 (including Jupyter Lab) in your ec2 instance. Before moving over to Jupyter Lab, perform steps 3 - 4 to set up Earthdata Login and Harmony access:\n",
    "\n",
    "3. Setup your `~/.netrc` for Earthdata Login in your ec2 instance:\n",
    "\n",
    "`machine uat.earthdata.nasa.gov login <user> password <password>`\n",
    "\n",
    "4. Run the following in your ec2 instance terminal window to generate short-term Harmony access keys:\n",
    "\n",
    "`curl -Ln -bj https://harmony.earthdata.nasa.gov/cloud-access.sh`\n",
    "\n",
    "5. Set your environment variables based on the keys provided in step 4:\n",
    "\n",
    "`export AWS_ACCESS_KEY_ID='...\n",
    "export AWS_SECRET_ACCESS_KEY='...'\n",
    "export AWS_SESSION_TOKEN='...'\n",
    "export AWS_DEFAULT_REGION='us-west-2'`\n",
    "\n",
    "6. Once the notebook is running in Jupyter Lab, run the following cell to install Python dependencies, import necessary modules, and set notebook defaults:"
   ]
  },
  {
   "cell_type": "code",
   "execution_count": null,
   "metadata": {},
   "outputs": [],
   "source": [
    "# %load_ext autoreload\n",
    "# %autoreload\n",
    "# %matplotlib inline\n",
    "\n",
    "# import sys\n",
    "# # Install dependencies into the Jupyter Kernel\n",
    "# !{sys.executable} -m pip install -q -r notebook_helpers/requirements.txt\n",
    "# #!{sys.executable} -m pip install intake-stac # if you don't already have intake-stac\n",
    "\n",
    "# # Import libraries used throughout the notebook\n",
    "# from notebook_helpers import get, post, show, get_data_urls, show_async, show_async_condensed, print_async_status, show_shape\n",
    "# import json\n",
    "# import intake\n",
    "# import s3fs\n",
    "# import requests\n",
    "# import json"
   ]
  },
  {
   "cell_type": "code",
   "execution_count": 1,
   "metadata": {},
   "outputs": [],
   "source": [
    "import tutorial_helper_functions as fn"
   ]
  },
  {
   "cell_type": "markdown",
   "metadata": {},
   "source": [
    "### __Earthdata Login__"
   ]
  },
  {
   "cell_type": "code",
   "execution_count": 2,
   "metadata": {},
   "outputs": [
    {
     "name": "stdin",
     "output_type": "stream",
     "text": [
      "Username:  amy.steiker\n",
      "Password:  ·········\n"
     ]
    }
   ],
   "source": [
    "# Get your authentication token for searching restricted records in the CMR:\n",
    "_token = fn.setup_cmr_token_auth(endpoint=\"cmr.earthdata.nasa.gov\")\n",
    "\n",
    "# Start authenticated session with URS to allow restricted data downloads:\n",
    "fn.setup_earthdata_login_auth(endpoint=\"urs.earthdata.nasa.gov\")"
   ]
  },
  {
   "cell_type": "markdown",
   "metadata": {},
   "source": [
    "### __SMAP Sea Surface Salinity__\n",
    "\n",
    "Zarr reformatting"
   ]
  },
  {
   "cell_type": "code",
   "execution_count": 3,
   "metadata": {},
   "outputs": [],
   "source": [
    "smap_collection_id='C1940468263-POCLOUD'\n",
    "harmony_root = 'https://harmony.earthdata.nasa.gov'\n",
    "params = {\n",
    "    'collection_id': smap_collection_id,\n",
    "    'ogc-api-coverages_version': '1.0.0',\n",
    "    'variable': 'all',\n",
    "    'format': 'application/x-zarr',\n",
    "    'start': '2020-11-15T00:00:00.000Z',\n",
    "    'stop':'2020-11-15T23:59:59.000Z'\n",
    "}\n",
    "\n",
    "harmony_url = harmony_root+'/{collection_id}/ogc-api-coverages/{ogc-api-coverages_version}/collections/{variable}/coverage/rangeset?format={format}&subset=time(\"{start}\":\"{stop}\")'.format(**params)"
   ]
  },
  {
   "cell_type": "code",
   "execution_count": 4,
   "metadata": {},
   "outputs": [
    {
     "name": "stdout",
     "output_type": "stream",
     "text": [
      "Request URL https://harmony.earthdata.nasa.gov/C1940468263-POCLOUD/ogc-api-coverages/1.0.0/collections/all/coverage/rangeset?format=application/x-zarr&subset=time(\"2020-11-15T00:00:00.000Z\":\"2020-11-15T23:59:59.000Z\")\n",
      "Job URL https://harmony.earthdata.nasa.gov/jobs/da70f263-0cf8-4ff7-be3c-f103a7eeb987\n",
      "Job status is running. Progress is  0 %. Trying again.\n",
      "Job status is running. Progress is  0 %. Trying again.\n"
     ]
    }
   ],
   "source": [
    "smap_results = fn.get_harmony_results(harmony_url, _token)"
   ]
  },
  {
   "cell_type": "code",
   "execution_count": 9,
   "metadata": {},
   "outputs": [
    {
     "name": "stdout",
     "output_type": "stream",
     "text": [
      "{'createdAt': '2020-11-25T00:07:02.082Z',\n",
      " 'jobID': 'da70f263-0cf8-4ff7-be3c-f103a7eeb987',\n",
      " 'links': [{'href': 'https://harmony.earthdata.nasa.gov/jobs/da70f263-0cf8-4ff7-be3c-f103a7eeb987',\n",
      "            'rel': 'self',\n",
      "            'title': 'Job Status',\n",
      "            'type': 'application/json'},\n",
      "           {'href': 'https://harmony.earthdata.nasa.gov/cloud-access.sh',\n",
      "            'rel': 'cloud-access-sh',\n",
      "            'title': 'Access keys for s3:// URLs, usable from AWS us-west-2 '\n",
      "                     '(Shell format)',\n",
      "            'type': 'application/x-sh'},\n",
      "           {'href': 'https://harmony.earthdata.nasa.gov/cloud-access',\n",
      "            'rel': 'cloud-access-json',\n",
      "            'title': 'Access keys for s3:// URLs, usable from AWS us-west-2 '\n",
      "                     '(JSON format)',\n",
      "            'type': 'application/json'},\n",
      "           {'href': 's3://harmony-prod-staging/public/harmony/netcdf-to-zarr/e7ac8bb6-cd26-4a41-9d4f-838eba2d9f58/',\n",
      "            'rel': 's3-access',\n",
      "            'title': 'Results in AWS S3. Access from AWS us-west-2 with keys '\n",
      "                     'from /cloud-access.sh'},\n",
      "           {'bbox': [0.125, -89.875, -0.125, 89.875],\n",
      "            'href': 's3://harmony-prod-staging/public/harmony/netcdf-to-zarr/e7ac8bb6-cd26-4a41-9d4f-838eba2d9f58/RSS_smap_SSS_L3_8day_running_2020_316_FNL_v04.0.zarr',\n",
      "            'rel': 'data',\n",
      "            'temporal': {'end': '2020-11-15T12:00:00.000Z',\n",
      "                         'start': '2020-11-07T12:00:00.000Z'},\n",
      "            'title': 'RSS_smap_SSS_L3_8day_running_2020_316_FNL_v04.0.zarr',\n",
      "            'type': 'application/x-zarr'},\n",
      "           {'bbox': [0.125, -89.875, -0.125, 89.875],\n",
      "            'href': 's3://harmony-prod-staging/public/harmony/netcdf-to-zarr/e7ac8bb6-cd26-4a41-9d4f-838eba2d9f58/RSS_smap_SSS_L3_8day_running_2020_317_FNL_v04.0.zarr',\n",
      "            'rel': 'data',\n",
      "            'temporal': {'end': '2020-11-16T12:00:00.000Z',\n",
      "                         'start': '2020-11-08T12:00:00.000Z'},\n",
      "            'title': 'RSS_smap_SSS_L3_8day_running_2020_317_FNL_v04.0.zarr',\n",
      "            'type': 'application/x-zarr'}],\n",
      " 'message': 'The job is being processed. Contains results in AWS S3. Access '\n",
      "            'from AWS us-west-2 with keys from '\n",
      "            'https://harmony.earthdata.nasa.gov/cloud-access.sh',\n",
      " 'progress': 100,\n",
      " 'request': 'https://harmony.earthdata.nasa.gov/C1940468263-POCLOUD/ogc-api-coverages/1.0.0/collections/all/coverage/rangeset?format=application%2Fx-zarr&subset=time(%222020-11-15T00%3A00%3A00.000Z%22%3A%222020-11-15T23%3A59%3A59.000Z%22)',\n",
      " 'status': 'running',\n",
      " 'updatedAt': '2020-11-25T00:07:22.285Z',\n",
      " 'username': 'amy.steiker'}\n"
     ]
    }
   ],
   "source": [
    "from pprint import pprint\n",
    "pprint(results)"
   ]
  },
  {
   "cell_type": "markdown",
   "metadata": {},
   "source": [
    "### __MODIS SST__\n",
    "\n",
    "Spatial subsetting"
   ]
  },
  {
   "cell_type": "code",
   "execution_count": 3,
   "metadata": {},
   "outputs": [],
   "source": [
    "modis_collection_id='C1940468263-POCLOUD'\n",
    "harmony_root = 'https://harmony.earthdata.nasa.gov'\n",
    "params = {\n",
    "    'collection_id': smap_collection_id,\n",
    "    'ogc-api-coverages_version': '1.0.0',\n",
    "    'variable': 'all',\n",
    "    'format': 'application/x-zarr',\n",
    "    'start': '2020-11-15T00:00:00.000Z',\n",
    "    'stop':'2020-11-15T23:59:59.000Z'\n",
    "}\n",
    "\n",
    "harmony_url = harmony_root+'/{collection_id}/ogc-api-coverages/{ogc-api-coverages_version}/collections/{variable}/coverage/rangeset?format={format}&subset=time(\"{start}\":\"{stop}\")'.format(**params)"
   ]
  },
  {
   "cell_type": "code",
   "execution_count": 4,
   "metadata": {},
   "outputs": [
    {
     "name": "stdout",
     "output_type": "stream",
     "text": [
      "Request URL https://harmony.earthdata.nasa.gov/C1940468263-POCLOUD/ogc-api-coverages/1.0.0/collections/all/coverage/rangeset?format=application/x-zarr&subset=time(\"2020-11-15T00:00:00.000Z\":\"2020-11-15T23:59:59.000Z\")\n",
      "Job URL https://harmony.earthdata.nasa.gov/jobs/da70f263-0cf8-4ff7-be3c-f103a7eeb987\n",
      "Job status is running. Progress is  0 %. Trying again.\n",
      "Job status is running. Progress is  0 %. Trying again.\n"
     ]
    }
   ],
   "source": [
    "smap_results = fn.get_harmony_results(harmony_url, _token)"
   ]
  },
  {
   "cell_type": "code",
   "execution_count": 9,
   "metadata": {},
   "outputs": [
    {
     "name": "stdout",
     "output_type": "stream",
     "text": [
      "{'createdAt': '2020-11-25T00:07:02.082Z',\n",
      " 'jobID': 'da70f263-0cf8-4ff7-be3c-f103a7eeb987',\n",
      " 'links': [{'href': 'https://harmony.earthdata.nasa.gov/jobs/da70f263-0cf8-4ff7-be3c-f103a7eeb987',\n",
      "            'rel': 'self',\n",
      "            'title': 'Job Status',\n",
      "            'type': 'application/json'},\n",
      "           {'href': 'https://harmony.earthdata.nasa.gov/cloud-access.sh',\n",
      "            'rel': 'cloud-access-sh',\n",
      "            'title': 'Access keys for s3:// URLs, usable from AWS us-west-2 '\n",
      "                     '(Shell format)',\n",
      "            'type': 'application/x-sh'},\n",
      "           {'href': 'https://harmony.earthdata.nasa.gov/cloud-access',\n",
      "            'rel': 'cloud-access-json',\n",
      "            'title': 'Access keys for s3:// URLs, usable from AWS us-west-2 '\n",
      "                     '(JSON format)',\n",
      "            'type': 'application/json'},\n",
      "           {'href': 's3://harmony-prod-staging/public/harmony/netcdf-to-zarr/e7ac8bb6-cd26-4a41-9d4f-838eba2d9f58/',\n",
      "            'rel': 's3-access',\n",
      "            'title': 'Results in AWS S3. Access from AWS us-west-2 with keys '\n",
      "                     'from /cloud-access.sh'},\n",
      "           {'bbox': [0.125, -89.875, -0.125, 89.875],\n",
      "            'href': 's3://harmony-prod-staging/public/harmony/netcdf-to-zarr/e7ac8bb6-cd26-4a41-9d4f-838eba2d9f58/RSS_smap_SSS_L3_8day_running_2020_316_FNL_v04.0.zarr',\n",
      "            'rel': 'data',\n",
      "            'temporal': {'end': '2020-11-15T12:00:00.000Z',\n",
      "                         'start': '2020-11-07T12:00:00.000Z'},\n",
      "            'title': 'RSS_smap_SSS_L3_8day_running_2020_316_FNL_v04.0.zarr',\n",
      "            'type': 'application/x-zarr'},\n",
      "           {'bbox': [0.125, -89.875, -0.125, 89.875],\n",
      "            'href': 's3://harmony-prod-staging/public/harmony/netcdf-to-zarr/e7ac8bb6-cd26-4a41-9d4f-838eba2d9f58/RSS_smap_SSS_L3_8day_running_2020_317_FNL_v04.0.zarr',\n",
      "            'rel': 'data',\n",
      "            'temporal': {'end': '2020-11-16T12:00:00.000Z',\n",
      "                         'start': '2020-11-08T12:00:00.000Z'},\n",
      "            'title': 'RSS_smap_SSS_L3_8day_running_2020_317_FNL_v04.0.zarr',\n",
      "            'type': 'application/x-zarr'}],\n",
      " 'message': 'The job is being processed. Contains results in AWS S3. Access '\n",
      "            'from AWS us-west-2 with keys from '\n",
      "            'https://harmony.earthdata.nasa.gov/cloud-access.sh',\n",
      " 'progress': 100,\n",
      " 'request': 'https://harmony.earthdata.nasa.gov/C1940468263-POCLOUD/ogc-api-coverages/1.0.0/collections/all/coverage/rangeset?format=application%2Fx-zarr&subset=time(%222020-11-15T00%3A00%3A00.000Z%22%3A%222020-11-15T23%3A59%3A59.000Z%22)',\n",
      " 'status': 'running',\n",
      " 'updatedAt': '2020-11-25T00:07:22.285Z',\n",
      " 'username': 'amy.steiker'}\n"
     ]
    }
   ],
   "source": [
    "from pprint import pprint\n",
    "pprint(results)"
   ]
  },
  {
   "cell_type": "code",
   "execution_count": null,
   "metadata": {},
   "outputs": [],
   "source": []
  },
  {
   "cell_type": "code",
   "execution_count": null,
   "metadata": {},
   "outputs": [],
   "source": []
  },
  {
   "cell_type": "code",
   "execution_count": null,
   "metadata": {},
   "outputs": [],
   "source": []
  },
  {
   "cell_type": "markdown",
   "metadata": {},
   "source": [
    "### __Explore the STAC response using `intake-stac`__\n",
    "\n",
    "Each asynchronous request response includes a [STAC](https://stacspec.org/) catalog that contains spatial and temporal metadata for each output, or STAC item. These metadata fields now reflect the values of the subsetted outputs themselves, providing transformation metadata for users. The [Pangeo gallery](http://gallery.pangeo.io/repos/pangeo-data/pangeo-tutorial-gallery/intake.html) includes great guidance on how to work with stac catalogs to access cloud-hosted data in place."
   ]
  },
  {
   "cell_type": "code",
   "execution_count": null,
   "metadata": {},
   "outputs": [],
   "source": [
    "xx_results = json.loads(response.content)\n",
    "job = results['jobID']\n",
    "print(job)\n",
    "\n",
    "stac_root = 'https://harmony.uat.earthdata.nasa.gov/stac/{jobID}/{item}'"
   ]
  },
  {
   "cell_type": "markdown",
   "metadata": {},
   "source": [
    "#### Open STAC Catalog from Harmony async response\n",
    "\n",
    "Two STAC items are listed, corresponding to the two outputs plotted above."
   ]
  },
  {
   "cell_type": "code",
   "execution_count": null,
   "metadata": {},
   "outputs": [],
   "source": [
    "stac_cat = intake.open_stac_catalog(stac_root.format(jobID=job,item=''),name='Harmony output')\n",
    "display(list(stac_cat))\n",
    "list(stac_cat)[0]"
   ]
  },
  {
   "cell_type": "markdown",
   "metadata": {},
   "source": [
    "We can inspect the metadata of each STAC item, which includes the bounding box, coordinates, and start and end time:"
   ]
  },
  {
   "cell_type": "code",
   "execution_count": null,
   "metadata": {},
   "outputs": [],
   "source": [
    "for i in range(len(list(stac_cat))):\n",
    "    display(intake.open_stac_item(stac_root.format(jobID=job,item=i)))"
   ]
  },
  {
   "cell_type": "markdown",
   "metadata": {},
   "source": [
    "Each item can be accessed from the harmony s3 staging bucket:"
   ]
  },
  {
   "cell_type": "code",
   "execution_count": null,
   "metadata": {},
   "outputs": [],
   "source": [
    "entries = []\n",
    "for id, entry in stac_cat.search('type').items():\n",
    "    display(entry)\n",
    "    entries.append(entry)"
   ]
  },
  {
   "cell_type": "markdown",
   "metadata": {},
   "source": [
    "### __Access Harmony outputs directly from STAC__\n",
    "\n",
    "The Harmony output image is loaded up into an xarray data array directly from the STAC catalog."
   ]
  },
  {
   "cell_type": "code",
   "execution_count": null,
   "metadata": {},
   "outputs": [],
   "source": [
    "da = stac_cat[list(stac_cat)[0]][entries[0].describe()['name']].to_dask()\n",
    "da"
   ]
  },
  {
   "cell_type": "code",
   "execution_count": null,
   "metadata": {},
   "outputs": [],
   "source": [
    "da.plot.imshow()"
   ]
  },
  {
   "cell_type": "code",
   "execution_count": null,
   "metadata": {},
   "outputs": [],
   "source": []
  },
  {
   "cell_type": "code",
   "execution_count": null,
   "metadata": {},
   "outputs": [],
   "source": []
  },
  {
   "cell_type": "code",
   "execution_count": null,
   "metadata": {},
   "outputs": [],
   "source": []
  },
  {
   "cell_type": "code",
   "execution_count": null,
   "metadata": {},
   "outputs": [],
   "source": [
    "# search_parameters = { \n",
    "#     'smap': {'short_name': 'SMAP_RSS_L3_SSS_SMI_8DAY-RUNNINGMEAN_V4','version': '4.0', 'provider': 'NSIDC_ECS','bounding_box': bounding_box,'temporal': temporal},\n",
    "#     'modis': {'short_name': 'MODIS_T-JPL-L2P-v2019.0','version': '2019.0','provider': 'POCLOUD','bounding_box': bounding_box,'temporal': temporal},\n",
    "#     'mur': {'short_name': 'MODIS_T-JPL-L2P-v2019.0','version': '2019.0','provider': 'POCLOUD','bounding_box': bounding_box,'temporal': temporal},\n",
    "#             }\n",
    "\n",
    "\n",
    "# collection_id = 'C1940468263-POCLOUD'\n",
    "# coverages_root = 'https://harmony.earthdata.nasa.gov/{collection}/ogc-api-coverages/1.0.0/collections/{variable}/coverage/rangeset'\n",
    "\n"
   ]
  }
 ],
 "metadata": {
  "kernelspec": {
   "display_name": "Python 3",
   "language": "python",
   "name": "python3"
  },
  "language_info": {
   "codemirror_mode": {
    "name": "ipython",
    "version": 3
   },
   "file_extension": ".py",
   "mimetype": "text/x-python",
   "name": "python",
   "nbconvert_exporter": "python",
   "pygments_lexer": "ipython3",
   "version": "3.7.8"
  }
 },
 "nbformat": 4,
 "nbformat_minor": 4
}
