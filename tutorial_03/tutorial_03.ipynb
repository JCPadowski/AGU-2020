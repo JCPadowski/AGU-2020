{
 "cells": [
  {
   "cell_type": "markdown",
   "metadata": {},
   "source": [
    "# Search for datasets coincident with a list of points\n",
    "\n",
    "A physical oceanographer is interested in satellite derived sea surface temperature and ocean color along an ARGO drift track.\n",
    "\n",
    "Similar use cases would be to select data coincident with a cruise, with ice mass balance buoys in Arctic and Antarctic, or the MOSAIC experiment.\n",
    "\n",
    "## Learning objectives\n",
    "1. Convert a list of coordinates into a GeoJSON file.\n",
    "2. Write a query for the NASA CMR API.\n",
    "3. Submit the query and interpret the response.\n",
    "4. Order datasets returned by the query.\n",
    "5. Visualize the results."
   ]
  },
  {
   "cell_type": "code",
   "execution_count": null,
   "metadata": {},
   "outputs": [],
   "source": []
  }
 ],
 "metadata": {
  "kernelspec": {
   "display_name": "Python 3",
   "language": "python",
   "name": "python3"
  },
  "language_info": {
   "codemirror_mode": {
    "name": "ipython",
    "version": 3
   },
   "file_extension": ".py",
   "mimetype": "text/x-python",
   "name": "python",
   "nbconvert_exporter": "python",
   "pygments_lexer": "ipython3",
   "version": "3.7.8"
  }
 },
 "nbformat": 4,
 "nbformat_minor": 4
}
